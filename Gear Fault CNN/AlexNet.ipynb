{
 "cells": [
  {
   "cell_type": "code",
   "execution_count": 12,
   "metadata": {},
   "outputs": [],
   "source": [
    "import time\n",
    "import sqlite3\n",
    "import os\n",
    "import random\n",
    "import numpy as np\n",
    "import cupy as cp\n",
    "import seaborn as sn\n",
    "import pandas as pd\n",
    "import matplotlib.pyplot as plt\n",
    "import tensorflow as tf\n",
    "\n",
    "from PIL import Image\n",
    "from scipy import interp\n",
    "from itertools import cycle\n",
    "from keras.models import Model, Input, load_model\n",
    "from tensorflow.keras import datasets, layers, models\n",
    "from keras.callbacks import EarlyStopping, ModelCheckpoint\n",
    "from sklearn.metrics import classification_report, confusion_matrix, plot_confusion_matrix, roc_curve, auc\n"
   ]
  },
  {
   "cell_type": "markdown",
   "metadata": {},
   "source": [
    "#  Data Processing"
   ]
  },
  {
   "cell_type": "code",
   "execution_count": 2,
   "metadata": {},
   "outputs": [],
   "source": [
    "gear_defects = [0, 35, 76, 77]"
   ]
  },
  {
   "cell_type": "code",
   "execution_count": 3,
   "metadata": {},
   "outputs": [],
   "source": [
    "# Image size\n",
    "size = [300, 400]"
   ]
  },
  {
   "cell_type": "code",
   "execution_count": 4,
   "metadata": {},
   "outputs": [
    {
     "name": "stdout",
     "output_type": "stream",
     "text": [
      "10.958188533782959\n"
     ]
    }
   ],
   "source": [
    "# Load pre-processed dataset\n",
    "X_train = np.load('gears_train_300x400_0,76,77,35.npy')\n",
    "X_test = np.load('gears_test_300x400_0,76,77,35.npy')\n",
    "y_train = np.load('gears_ytrain_300x400_0,76,77,35.npy')\n",
    "y_test = np.load('gears_ytest_300x400_0,76,77,35.npy')"
   ]
  },
  {
   "cell_type": "markdown",
   "metadata": {},
   "source": [
    "# Training "
   ]
  },
  {
   "cell_type": "code",
   "execution_count": 5,
   "metadata": {
    "scrolled": false
   },
   "outputs": [
    {
     "name": "stdout",
     "output_type": "stream",
     "text": [
      "Model: \"sequential\"\n",
      "_________________________________________________________________\n",
      "Layer (type)                 Output Shape              Param #   \n",
      "=================================================================\n",
      "conv2d (Conv2D)              (None, 73, 98, 64)        7808      \n",
      "_________________________________________________________________\n",
      "max_pooling2d (MaxPooling2D) (None, 36, 48, 64)        0         \n",
      "_________________________________________________________________\n",
      "dropout (Dropout)            (None, 36, 48, 64)        0         \n",
      "_________________________________________________________________\n",
      "conv2d_1 (Conv2D)            (None, 36, 48, 128)       204928    \n",
      "_________________________________________________________________\n",
      "max_pooling2d_1 (MaxPooling2 (None, 17, 23, 128)       0         \n",
      "_________________________________________________________________\n",
      "dropout_1 (Dropout)          (None, 17, 23, 128)       0         \n",
      "_________________________________________________________________\n",
      "conv2d_2 (Conv2D)            (None, 17, 23, 256)       295168    \n",
      "_________________________________________________________________\n",
      "conv2d_3 (Conv2D)            (None, 17, 23, 256)       590080    \n",
      "_________________________________________________________________\n",
      "conv2d_4 (Conv2D)            (None, 17, 23, 128)       295040    \n",
      "_________________________________________________________________\n",
      "max_pooling2d_2 (MaxPooling2 (None, 8, 11, 128)        0         \n",
      "_________________________________________________________________\n",
      "dropout_2 (Dropout)          (None, 8, 11, 128)        0         \n",
      "_________________________________________________________________\n",
      "flatten (Flatten)            (None, 11264)             0         \n",
      "_________________________________________________________________\n",
      "dense (Dense)                (None, 256)               2883840   \n",
      "_________________________________________________________________\n",
      "dropout_3 (Dropout)          (None, 256)               0         \n",
      "_________________________________________________________________\n",
      "dense_1 (Dense)              (None, 256)               65792     \n",
      "_________________________________________________________________\n",
      "dense_2 (Dense)              (None, 4)                 1028      \n",
      "=================================================================\n",
      "Total params: 4,343,684\n",
      "Trainable params: 4,343,684\n",
      "Non-trainable params: 0\n",
      "_________________________________________________________________\n"
     ]
    }
   ],
   "source": [
    "# Set up architecture\n",
    "dropout = 0.5\n",
    "model = models.Sequential()\n",
    "model.add(layers.Conv2D(64, (11, 11), strides=(4,4), activation='relu', input_shape=(size[0],size[1],1)))\n",
    "model.add(layers.MaxPooling2D((3, 3), strides=(2,2)))\n",
    "model.add(layers.Dropout(dropout))\n",
    "model.add(layers.Conv2D(128, (5, 5), strides=(1,1), padding=\"same\", activation='relu'))\n",
    "model.add(layers.MaxPooling2D((3, 3), strides=(2,2)))\n",
    "model.add(layers.Dropout(dropout))\n",
    "model.add(layers.Conv2D(256, (3, 3), strides=(1,1), padding=\"same\", activation='relu'))\n",
    "model.add(layers.Conv2D(256, (3, 3), strides=(1,1), padding=\"same\", activation='relu'))\n",
    "model.add(layers.Conv2D(128, (3, 3), strides=(1,1), padding=\"same\", activation='relu'))\n",
    "model.add(layers.MaxPooling2D((3, 3), strides=(2,2)))\n",
    "model.add(layers.Dropout(dropout))\n",
    "model.add(layers.Flatten())\n",
    "model.add(layers.Dense(256, activation='relu'))\n",
    "model.add(layers.Dropout(dropout))\n",
    "model.add(layers.Dense(256, activation='relu'))\n",
    "model.add(layers.Dense(len(np.unique(y_train))))\n",
    "model.compile(optimizer='adam',\n",
    "              loss=tf.keras.losses.SparseCategoricalCrossentropy(from_logits=True),\n",
    "              metrics=['accuracy'])\n",
    "model.summary()"
   ]
  },
  {
   "cell_type": "code",
   "execution_count": 6,
   "metadata": {},
   "outputs": [],
   "source": [
    "# Define early stopping and best model checkpoint\n",
    "es = EarlyStopping(monitor='accuracy', mode='max', verbose=1, min_delta=0.1, patience=40)\n",
    "mc = ModelCheckpoint('best_model.h5', monitor='val_accuracy', save_weights_only=True, mode='max', verbose=1, save_best_only=True)"
   ]
  },
  {
   "cell_type": "code",
   "execution_count": 7,
   "metadata": {
    "scrolled": true
   },
   "outputs": [
    {
     "name": "stdout",
     "output_type": "stream",
     "text": [
      "Epoch 1/100\n",
      "262/262 [==============================] - ETA: 0s - loss: 1.0507 - accuracy: 0.8599\n",
      "Epoch 00001: val_accuracy improved from -inf to 0.79672, saving model to best_model.h5\n",
      "262/262 [==============================] - 6s 24ms/step - loss: 1.0507 - accuracy: 0.8599 - val_loss: 0.4523 - val_accuracy: 0.7967\n",
      "Epoch 2/100\n",
      "262/262 [==============================] - ETA: 0s - loss: 0.2752 - accuracy: 0.9179\n",
      "Epoch 00002: val_accuracy improved from 0.79672 to 0.88584, saving model to best_model.h5\n",
      "262/262 [==============================] - 6s 22ms/step - loss: 0.2752 - accuracy: 0.9179 - val_loss: 0.4675 - val_accuracy: 0.8858\n",
      "Epoch 3/100\n",
      "262/262 [==============================] - ETA: 0s - loss: 0.2303 - accuracy: 0.9386\n",
      "Epoch 00003: val_accuracy improved from 0.88584 to 0.94316, saving model to best_model.h5\n",
      "262/262 [==============================] - 6s 22ms/step - loss: 0.2303 - accuracy: 0.9386 - val_loss: 0.2346 - val_accuracy: 0.9432\n",
      "Epoch 4/100\n",
      "262/262 [==============================] - ETA: 0s - loss: 0.1913 - accuracy: 0.9445\n",
      "Epoch 00004: val_accuracy improved from 0.94316 to 0.95328, saving model to best_model.h5\n",
      "262/262 [==============================] - 6s 22ms/step - loss: 0.1913 - accuracy: 0.9445 - val_loss: 0.2018 - val_accuracy: 0.9533\n",
      "Epoch 5/100\n",
      "262/262 [==============================] - ETA: 0s - loss: 0.1609 - accuracy: 0.9508\n",
      "Epoch 00005: val_accuracy did not improve from 0.95328\n",
      "262/262 [==============================] - 5s 21ms/step - loss: 0.1609 - accuracy: 0.9508 - val_loss: 0.1520 - val_accuracy: 0.9523\n",
      "Epoch 6/100\n",
      "262/262 [==============================] - ETA: 0s - loss: 0.1393 - accuracy: 0.9543\n",
      "Epoch 00006: val_accuracy improved from 0.95328 to 0.95472, saving model to best_model.h5\n",
      "262/262 [==============================] - 6s 21ms/step - loss: 0.1393 - accuracy: 0.9543 - val_loss: 0.1551 - val_accuracy: 0.9547\n",
      "Epoch 7/100\n",
      "262/262 [==============================] - ETA: 0s - loss: 0.1174 - accuracy: 0.9601\n",
      "Epoch 00007: val_accuracy improved from 0.95472 to 0.96243, saving model to best_model.h5\n",
      "262/262 [==============================] - 6s 22ms/step - loss: 0.1174 - accuracy: 0.9601 - val_loss: 0.1489 - val_accuracy: 0.9624\n",
      "Epoch 8/100\n",
      "262/262 [==============================] - ETA: 0s - loss: 0.0954 - accuracy: 0.9663\n",
      "Epoch 00008: val_accuracy improved from 0.96243 to 0.96435, saving model to best_model.h5\n",
      "262/262 [==============================] - 6s 22ms/step - loss: 0.0954 - accuracy: 0.9663 - val_loss: 0.1360 - val_accuracy: 0.9644\n",
      "Epoch 9/100\n",
      "262/262 [==============================] - ETA: 0s - loss: 0.1077 - accuracy: 0.9661\n",
      "Epoch 00009: val_accuracy improved from 0.96435 to 0.96821, saving model to best_model.h5\n",
      "262/262 [==============================] - 6s 21ms/step - loss: 0.1077 - accuracy: 0.9661 - val_loss: 0.1209 - val_accuracy: 0.9682\n",
      "Epoch 10/100\n",
      "262/262 [==============================] - ETA: 0s - loss: 0.0943 - accuracy: 0.9680\n",
      "Epoch 00010: val_accuracy did not improve from 0.96821\n",
      "262/262 [==============================] - 6s 21ms/step - loss: 0.0943 - accuracy: 0.9680 - val_loss: 0.1161 - val_accuracy: 0.9682\n",
      "Epoch 11/100\n",
      "262/262 [==============================] - ETA: 0s - loss: 0.0842 - accuracy: 0.9699\n",
      "Epoch 00011: val_accuracy improved from 0.96821 to 0.97640, saving model to best_model.h5\n",
      "262/262 [==============================] - 6s 21ms/step - loss: 0.0842 - accuracy: 0.9699 - val_loss: 0.1038 - val_accuracy: 0.9764\n",
      "Epoch 12/100\n",
      "262/262 [==============================] - ETA: 0s - loss: 0.0868 - accuracy: 0.9712\n",
      "Epoch 00012: val_accuracy did not improve from 0.97640\n",
      "262/262 [==============================] - 6s 21ms/step - loss: 0.0868 - accuracy: 0.9712 - val_loss: 0.1022 - val_accuracy: 0.9730\n",
      "Epoch 13/100\n",
      "262/262 [==============================] - ETA: 0s - loss: 0.1022 - accuracy: 0.9659\n",
      "Epoch 00013: val_accuracy did not improve from 0.97640\n",
      "262/262 [==============================] - 5s 21ms/step - loss: 0.1022 - accuracy: 0.9659 - val_loss: 0.0956 - val_accuracy: 0.9725\n",
      "Epoch 14/100\n",
      "262/262 [==============================] - ETA: 0s - loss: 0.0829 - accuracy: 0.9724\n",
      "Epoch 00014: val_accuracy did not improve from 0.97640\n",
      "262/262 [==============================] - 6s 21ms/step - loss: 0.0829 - accuracy: 0.9724 - val_loss: 0.1168 - val_accuracy: 0.9692\n",
      "Epoch 15/100\n",
      "262/262 [==============================] - ETA: 0s - loss: 0.0709 - accuracy: 0.9772\n",
      "Epoch 00015: val_accuracy did not improve from 0.97640\n",
      "262/262 [==============================] - 6s 21ms/step - loss: 0.0709 - accuracy: 0.9772 - val_loss: 0.0871 - val_accuracy: 0.9663\n",
      "Epoch 16/100\n",
      "262/262 [==============================] - ETA: 0s - loss: 0.0667 - accuracy: 0.9759\n",
      "Epoch 00016: val_accuracy did not improve from 0.97640\n",
      "262/262 [==============================] - 6s 21ms/step - loss: 0.0667 - accuracy: 0.9759 - val_loss: 0.1398 - val_accuracy: 0.9605\n",
      "Epoch 17/100\n",
      "262/262 [==============================] - ETA: 0s - loss: 0.0704 - accuracy: 0.9751\n",
      "Epoch 00017: val_accuracy did not improve from 0.97640\n",
      "262/262 [==============================] - 6s 21ms/step - loss: 0.0704 - accuracy: 0.9751 - val_loss: 0.0910 - val_accuracy: 0.9677\n",
      "Epoch 18/100\n",
      "262/262 [==============================] - ETA: 0s - loss: 0.0563 - accuracy: 0.9801\n",
      "Epoch 00018: val_accuracy did not improve from 0.97640\n",
      "262/262 [==============================] - 6s 21ms/step - loss: 0.0563 - accuracy: 0.9801 - val_loss: 0.1178 - val_accuracy: 0.9692\n",
      "Epoch 19/100\n",
      "262/262 [==============================] - ETA: 0s - loss: 0.0688 - accuracy: 0.9766\n",
      "Epoch 00019: val_accuracy did not improve from 0.97640\n",
      "262/262 [==============================] - 6s 21ms/step - loss: 0.0688 - accuracy: 0.9766 - val_loss: 0.1067 - val_accuracy: 0.9740\n",
      "Epoch 20/100\n",
      "262/262 [==============================] - ETA: 0s - loss: 0.0780 - accuracy: 0.9754\n",
      "Epoch 00020: val_accuracy did not improve from 0.97640\n",
      "262/262 [==============================] - 6s 21ms/step - loss: 0.0780 - accuracy: 0.9754 - val_loss: 0.0934 - val_accuracy: 0.9687\n",
      "Epoch 21/100\n",
      "262/262 [==============================] - ETA: 0s - loss: 0.0907 - accuracy: 0.9706\n",
      "Epoch 00021: val_accuracy did not improve from 0.97640\n",
      "262/262 [==============================] - 5s 21ms/step - loss: 0.0907 - accuracy: 0.9706 - val_loss: 0.2306 - val_accuracy: 0.9509\n",
      "Epoch 22/100\n",
      "262/262 [==============================] - ETA: 0s - loss: 0.0614 - accuracy: 0.9782\n",
      "Epoch 00022: val_accuracy did not improve from 0.97640\n",
      "262/262 [==============================] - 6s 21ms/step - loss: 0.0614 - accuracy: 0.9782 - val_loss: 0.0909 - val_accuracy: 0.9692\n",
      "Epoch 23/100\n",
      "262/262 [==============================] - ETA: 0s - loss: 0.0676 - accuracy: 0.9774\n",
      "Epoch 00023: val_accuracy did not improve from 0.97640\n",
      "262/262 [==============================] - 6s 21ms/step - loss: 0.0676 - accuracy: 0.9774 - val_loss: 0.0911 - val_accuracy: 0.9706\n",
      "Epoch 24/100\n",
      "262/262 [==============================] - ETA: 0s - loss: 0.0621 - accuracy: 0.9792\n",
      "Epoch 00024: val_accuracy did not improve from 0.97640\n",
      "262/262 [==============================] - 6s 21ms/step - loss: 0.0621 - accuracy: 0.9792 - val_loss: 0.0943 - val_accuracy: 0.9711\n",
      "Epoch 25/100\n",
      "262/262 [==============================] - ETA: 0s - loss: 0.0661 - accuracy: 0.9789\n",
      "Epoch 00025: val_accuracy did not improve from 0.97640\n",
      "262/262 [==============================] - 6s 21ms/step - loss: 0.0661 - accuracy: 0.9789 - val_loss: 0.0958 - val_accuracy: 0.9619\n",
      "Epoch 26/100\n",
      "262/262 [==============================] - ETA: 0s - loss: 0.0936 - accuracy: 0.9692\n",
      "Epoch 00026: val_accuracy improved from 0.97640 to 0.97929, saving model to best_model.h5\n",
      "262/262 [==============================] - 6s 22ms/step - loss: 0.0936 - accuracy: 0.9692 - val_loss: 0.0953 - val_accuracy: 0.9793\n",
      "Epoch 27/100\n",
      "262/262 [==============================] - ETA: 0s - loss: 0.0607 - accuracy: 0.9797\n",
      "Epoch 00027: val_accuracy did not improve from 0.97929\n",
      "262/262 [==============================] - 6s 21ms/step - loss: 0.0607 - accuracy: 0.9797 - val_loss: 0.0809 - val_accuracy: 0.9721\n",
      "Epoch 28/100\n",
      "262/262 [==============================] - ETA: 0s - loss: 0.0827 - accuracy: 0.9727\n",
      "Epoch 00028: val_accuracy did not improve from 0.97929\n",
      "262/262 [==============================] - 6s 21ms/step - loss: 0.0827 - accuracy: 0.9727 - val_loss: 0.0715 - val_accuracy: 0.9692\n"
     ]
    },
    {
     "name": "stdout",
     "output_type": "stream",
     "text": [
      "Epoch 29/100\n",
      "262/262 [==============================] - ETA: 0s - loss: 0.0634 - accuracy: 0.9799\n",
      "Epoch 00029: val_accuracy did not improve from 0.97929\n",
      "262/262 [==============================] - 6s 21ms/step - loss: 0.0634 - accuracy: 0.9799 - val_loss: 0.0911 - val_accuracy: 0.9740\n",
      "Epoch 30/100\n",
      "262/262 [==============================] - ETA: 0s - loss: 0.0797 - accuracy: 0.9774\n",
      "Epoch 00030: val_accuracy did not improve from 0.97929\n",
      "262/262 [==============================] - 6s 21ms/step - loss: 0.0797 - accuracy: 0.9774 - val_loss: 0.6857 - val_accuracy: 0.8704\n",
      "Epoch 31/100\n",
      "262/262 [==============================] - ETA: 0s - loss: 0.0612 - accuracy: 0.9791\n",
      "Epoch 00031: val_accuracy did not improve from 0.97929\n",
      "262/262 [==============================] - 6s 21ms/step - loss: 0.0612 - accuracy: 0.9791 - val_loss: 0.1256 - val_accuracy: 0.9754\n",
      "Epoch 32/100\n",
      "262/262 [==============================] - ETA: 0s - loss: 0.0489 - accuracy: 0.9847\n",
      "Epoch 00032: val_accuracy did not improve from 0.97929\n",
      "262/262 [==============================] - 6s 21ms/step - loss: 0.0489 - accuracy: 0.9847 - val_loss: 0.0648 - val_accuracy: 0.9730\n",
      "Epoch 33/100\n",
      "262/262 [==============================] - ETA: 0s - loss: 0.0486 - accuracy: 0.9856\n",
      "Epoch 00033: val_accuracy did not improve from 0.97929\n",
      "262/262 [==============================] - 6s 21ms/step - loss: 0.0486 - accuracy: 0.9856 - val_loss: 0.0906 - val_accuracy: 0.9754\n",
      "Epoch 34/100\n",
      "262/262 [==============================] - ETA: 0s - loss: 0.0703 - accuracy: 0.9791\n",
      "Epoch 00034: val_accuracy did not improve from 0.97929\n",
      "262/262 [==============================] - 6s 21ms/step - loss: 0.0703 - accuracy: 0.9791 - val_loss: 0.0876 - val_accuracy: 0.9682\n",
      "Epoch 35/100\n",
      "262/262 [==============================] - ETA: 0s - loss: 0.0755 - accuracy: 0.9801\n",
      "Epoch 00035: val_accuracy did not improve from 0.97929\n",
      "262/262 [==============================] - 6s 21ms/step - loss: 0.0755 - accuracy: 0.9801 - val_loss: 0.0977 - val_accuracy: 0.9663\n",
      "Epoch 36/100\n",
      "262/262 [==============================] - ETA: 0s - loss: 0.0792 - accuracy: 0.9771\n",
      "Epoch 00036: val_accuracy did not improve from 0.97929\n",
      "262/262 [==============================] - 6s 21ms/step - loss: 0.0792 - accuracy: 0.9771 - val_loss: 0.0832 - val_accuracy: 0.9682\n",
      "Epoch 37/100\n",
      "262/262 [==============================] - ETA: 0s - loss: 0.0666 - accuracy: 0.9778\n",
      "Epoch 00037: val_accuracy did not improve from 0.97929\n",
      "262/262 [==============================] - 6s 21ms/step - loss: 0.0666 - accuracy: 0.9778 - val_loss: 0.0745 - val_accuracy: 0.9682\n",
      "Epoch 38/100\n",
      "262/262 [==============================] - ETA: 0s - loss: 0.0385 - accuracy: 0.9868\n",
      "Epoch 00038: val_accuracy did not improve from 0.97929\n",
      "262/262 [==============================] - 6s 21ms/step - loss: 0.0385 - accuracy: 0.9868 - val_loss: 0.0837 - val_accuracy: 0.9644\n",
      "Epoch 39/100\n",
      "262/262 [==============================] - ETA: 0s - loss: 0.0716 - accuracy: 0.9770\n",
      "Epoch 00039: val_accuracy did not improve from 0.97929\n",
      "262/262 [==============================] - 6s 22ms/step - loss: 0.0716 - accuracy: 0.9770 - val_loss: 0.0856 - val_accuracy: 0.9774\n",
      "Epoch 40/100\n",
      "262/262 [==============================] - ETA: 0s - loss: 0.0439 - accuracy: 0.9884\n",
      "Epoch 00040: val_accuracy did not improve from 0.97929\n",
      "262/262 [==============================] - 6s 22ms/step - loss: 0.0439 - accuracy: 0.9884 - val_loss: 0.0895 - val_accuracy: 0.9629\n",
      "Epoch 41/100\n",
      "262/262 [==============================] - ETA: 0s - loss: 0.0732 - accuracy: 0.9748\n",
      "Epoch 00041: val_accuracy did not improve from 0.97929\n",
      "262/262 [==============================] - 6s 21ms/step - loss: 0.0732 - accuracy: 0.9748 - val_loss: 0.1127 - val_accuracy: 0.9735\n",
      "Epoch 42/100\n",
      "262/262 [==============================] - ETA: 0s - loss: 0.0765 - accuracy: 0.9758\n",
      "Epoch 00042: val_accuracy did not improve from 0.97929\n",
      "262/262 [==============================] - 6s 23ms/step - loss: 0.0765 - accuracy: 0.9758 - val_loss: 0.0981 - val_accuracy: 0.9653\n",
      "Epoch 43/100\n",
      "261/262 [============================>.] - ETA: 0s - loss: 0.0619 - accuracy: 0.9810\n",
      "Epoch 00043: val_accuracy did not improve from 0.97929\n",
      "262/262 [==============================] - 6s 23ms/step - loss: 0.0618 - accuracy: 0.9810 - val_loss: 0.0987 - val_accuracy: 0.9682\n",
      "Epoch 44/100\n",
      "261/262 [============================>.] - ETA: 0s - loss: 0.0740 - accuracy: 0.9764\n",
      "Epoch 00044: val_accuracy did not improve from 0.97929\n",
      "262/262 [==============================] - 6s 23ms/step - loss: 0.0739 - accuracy: 0.9765 - val_loss: 0.0976 - val_accuracy: 0.9648\n",
      "Epoch 45/100\n",
      "262/262 [==============================] - ETA: 0s - loss: 0.0654 - accuracy: 0.9789\n",
      "Epoch 00045: val_accuracy improved from 0.97929 to 0.98266, saving model to best_model.h5\n",
      "262/262 [==============================] - 6s 23ms/step - loss: 0.0654 - accuracy: 0.9789 - val_loss: 0.0754 - val_accuracy: 0.9827\n",
      "Epoch 46/100\n",
      "260/262 [============================>.] - ETA: 0s - loss: 0.0323 - accuracy: 0.9911\n",
      "Epoch 00046: val_accuracy did not improve from 0.98266\n",
      "262/262 [==============================] - 6s 23ms/step - loss: 0.0363 - accuracy: 0.9908 - val_loss: 0.0872 - val_accuracy: 0.9735\n",
      "Epoch 47/100\n",
      "262/262 [==============================] - ETA: 0s - loss: 0.0411 - accuracy: 0.9860\n",
      "Epoch 00047: val_accuracy did not improve from 0.98266\n",
      "262/262 [==============================] - 6s 23ms/step - loss: 0.0411 - accuracy: 0.9860 - val_loss: 0.1107 - val_accuracy: 0.9697\n",
      "Epoch 00047: early stopping\n"
     ]
    }
   ],
   "source": [
    "# Fitting model with early stopping and checkpoint save\n",
    "history = model.fit(X_train, y_train, epochs=100, \n",
    "                    validation_data=(X_test, y_test), callbacks=[es, mc])"
   ]
  },
  {
   "cell_type": "code",
   "execution_count": 118,
   "metadata": {
    "scrolled": true
   },
   "outputs": [],
   "source": [
    "# Load the best model\n",
    "model.load_weights('best_model.h5')"
   ]
  },
  {
   "cell_type": "code",
   "execution_count": 134,
   "metadata": {},
   "outputs": [],
   "source": [
    "model.save(\"alexnet.h5\")"
   ]
  },
  {
   "cell_type": "code",
   "execution_count": null,
   "metadata": {},
   "outputs": [],
   "source": [
    "# Convert the history.history dict to a pandas DataFrame\n",
    "hist_df = pd.DataFrame(history.history) \n",
    "\n",
    "# Save to json for plots \n",
    "hist_json_file = 'alexnet_history.json' \n",
    "with open(hist_json_file, mode='w') as f:\n",
    "    hist_df.to_json(f)"
   ]
  },
  {
   "cell_type": "markdown",
   "metadata": {},
   "source": [
    "# Metrics"
   ]
  },
  {
   "cell_type": "code",
   "execution_count": 14,
   "metadata": {},
   "outputs": [
    {
     "name": "stdout",
     "output_type": "stream",
     "text": [
      "65/65 - 1s - loss: 0.0426 - accuracy: 0.9889\n",
      "\n",
      "Test accuracy: 0.9889209866523743\n"
     ]
    }
   ],
   "source": [
    "test_loss, test_acc = model.evaluate(X_test,  y_test, verbose=2)\n",
    "print('\\nTest accuracy:', test_acc)"
   ]
  },
  {
   "cell_type": "code",
   "execution_count": 15,
   "metadata": {},
   "outputs": [
    {
     "name": "stdout",
     "output_type": "stream",
     "text": [
      "              precision    recall  f1-score   support\n",
      "\n",
      "           0       0.92      0.96      0.94       166\n",
      "           1       0.99      0.99      0.99       198\n",
      "           2       1.00      0.99      0.99      1558\n",
      "           3       0.98      1.00      0.99       154\n",
      "\n",
      "    accuracy                           0.99      2076\n",
      "   macro avg       0.97      0.99      0.98      2076\n",
      "weighted avg       0.99      0.99      0.99      2076\n",
      "\n"
     ]
    }
   ],
   "source": [
    "# Show metrics\n",
    "predictions = model.predict(X_test)\n",
    "y_pred = predictions.argmax(axis=1).astype(int)\n",
    "print(classification_report(y_test, y_pred))"
   ]
  },
  {
   "cell_type": "code",
   "execution_count": 16,
   "metadata": {
    "scrolled": false
   },
   "outputs": [
    {
     "data": {
      "image/png": "[encoded data removed]",
      "text/plain": [
       "<Figure size 432x288 with 1 Axes>"
      ]
     },
     "metadata": {
      "needs_background": "light"
     },
     "output_type": "display_data"
    },
    {
     "data": {
      "image/png": "[encoded data removed]",
      "text/plain": [
       "<Figure size 432x288 with 1 Axes>"
      ]
     },
     "metadata": {
      "needs_background": "light"
     },
     "output_type": "display_data"
    }
   ],
   "source": [
    "# Plot train and test validation of loss values and accuracy values\n",
    "acc = history.history['accuracy']\n",
    "val_acc = history.history['val_accuracy']\n",
    "loss = history.history['loss']\n",
    "val_loss = history.history['val_loss']\n",
    "epochs = range(1, len(acc) + 1)\n",
    "plt.plot(epochs, acc, 'r--', label='Training acc')\n",
    "plt.plot(epochs, val_acc, 'b', label='Validation acc')\n",
    "plt.title('Training and validation accuracy')\n",
    "plt.legend()\n",
    "plt.figure()\n",
    "plt.plot(epochs, loss, 'r--', label='Training loss')\n",
    "plt.plot(epochs, val_loss, 'b', label='Validation loss')\n",
    "plt.ylim([0,1.5])\n",
    "plt.title('Training and validation loss')\n",
    "plt.legend()\n",
    "plt.show()"
   ]
  },
  {
   "cell_type": "code",
   "execution_count": 18,
   "metadata": {},
   "outputs": [],
   "source": [
    "# ROC binary label reshaping\n",
    "y_pred_roc = (y_pred[:,None] == np.arange(y_pred.max()+1)).astype(int)\n",
    "y_test_roc = (y_test[:,None] == np.arange(y_test.max()+1)).astype(int)"
   ]
  },
  {
   "cell_type": "code",
   "execution_count": 91,
   "metadata": {},
   "outputs": [
    {
     "data": {
      "image/png": "[encoded data removed]",
      "text/plain": [
       "<Figure size 432x288 with 1 Axes>"
      ]
     },
     "metadata": {
      "needs_background": "light"
     },
     "output_type": "display_data"
    },
    {
     "data": {
      "image/png": "[encoded data removed]",
      "text/plain": [
       "<Figure size 432x288 with 1 Axes>"
      ]
     },
     "metadata": {
      "needs_background": "light"
     },
     "output_type": "display_data"
    }
   ],
   "source": [
    "# Plot ROC\n",
    "def plot_roc(y_test, y_pred):\n",
    "    # Plot linewidth.\n",
    "    lw = 2\n",
    "    n_classes = len(y_pred_roc[0])\n",
    "    # Compute ROC curve and ROC area for each class\n",
    "    fpr = dict()\n",
    "    tpr = dict()\n",
    "    roc_auc = dict()\n",
    "    for i in range(n_classes):\n",
    "        fpr[i], tpr[i], _ = roc_curve(y_test_roc[:, i], y_pred_roc[:, i])\n",
    "        roc_auc[i] = auc(fpr[i], tpr[i])\n",
    "    # Plot all ROC curves\n",
    "    plt.figure(1)\n",
    "\n",
    "    colors = cycle(['red', 'blue', 'green', 'black'])\n",
    "    for i, color in zip(range(n_classes), colors):\n",
    "        plt.plot(fpr[i], tpr[i], color=color, lw=lw,\n",
    "                 label='ROC curve of class '+str(gear_defects[i])+' (area = {1:0.2f})'\n",
    "                 ''.format(i, roc_auc[i]))\n",
    "\n",
    "    plt.plot([0, 1], [0, 1], 'k--', lw=lw)\n",
    "    plt.xlim([0.0, 1.0])\n",
    "    plt.ylim([0.0, 1.05])\n",
    "    plt.xlabel('False Positive Rate')\n",
    "    plt.ylabel('True Positive Rate')\n",
    "    plt.legend(loc=\"lower right\")\n",
    "    plt.savefig('ROC')\n",
    "    plt.show()\n",
    "    \n",
    "    # Zoom in view of the upper left corner.\n",
    "    plt.figure(2)\n",
    "    plt.xlim(0, 0.05)\n",
    "    plt.ylim(0.8, 1.05)\n",
    "    colors = cycle(['red', 'blue', 'green', 'black'])\n",
    "    for i, color in zip(range(n_classes), colors):\n",
    "        plt.plot(fpr[i], tpr[i], color=color, lw=lw,\n",
    "                 label='ROC curve of class '+str(gear_defects[i])+' (area = {1:0.2f})'\n",
    "                 ''.format(i, roc_auc[i]))\n",
    "\n",
    "    plt.plot([0, 1], [0, 1], 'k--', lw=lw)\n",
    "    plt.xlabel('False Positive Rate')\n",
    "    plt.ylabel('True Positive Rate')\n",
    "    plt.legend(loc=\"lower right\")\n",
    "    plt.savefig('ROC_zoom')\n",
    "    plt.show()\n",
    "    \n",
    "plot_roc(y_test_roc,y_pred_roc)"
   ]
  },
  {
   "cell_type": "code",
   "execution_count": 36,
   "metadata": {},
   "outputs": [
    {
     "data": {
      "text/plain": [
       "<AxesSubplot:>"
      ]
     },
     "execution_count": 36,
     "metadata": {},
     "output_type": "execute_result"
    },
    {
     "data": {
      "image/png": "[encoded data removed]",
      "text/plain": [
       "<Figure size 720x504 with 2 Axes>"
      ]
     },
     "metadata": {
      "needs_background": "light"
     },
     "output_type": "display_data"
    }
   ],
   "source": [
    "matrix = confusion_matrix(y_test, y_pred)\n",
    "df_cm = pd.DataFrame(matrix, index = [i for i in range(len(np.unique(y_test)))],\n",
    "                  columns = [i for i in range(len(np.unique(y_test)))])\n",
    "plt.figure(figsize = (10,7))\n",
    "sn.heatmap(df_cm, annot=True, fmt='g')"
   ]
  },
  {
   "cell_type": "code",
   "execution_count": null,
   "metadata": {},
   "outputs": [],
   "source": []
  }
 ],
 "metadata": {
  "kernelspec": {
   "display_name": "Python 3",
   "language": "python",
   "name": "python3"
  },
  "language_info": {
   "codemirror_mode": {
    "name": "ipython",
    "version": 3
   },
   "file_extension": ".py",
   "mimetype": "text/x-python",
   "name": "python",
   "nbconvert_exporter": "python",
   "pygments_lexer": "ipython3",
   "version": "3.8.3"
  }
 },
 "nbformat": 4,
 "nbformat_minor": 4
}
