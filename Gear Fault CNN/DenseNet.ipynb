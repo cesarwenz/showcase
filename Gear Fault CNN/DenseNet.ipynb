{
 "cells": [
  {
   "cell_type": "code",
   "execution_count": 1,
   "metadata": {},
   "outputs": [],
   "source": [
    "import time\n",
    "import sqlite3\n",
    "import os\n",
    "import random\n",
    "import numpy as np\n",
    "import cupy as cp\n",
    "import seaborn as sn\n",
    "import pandas as pd\n",
    "import matplotlib.pyplot as plt\n",
    "import tensorflow as tf\n",
    "\n",
    "from PIL import Image\n",
    "from scipy import interp\n",
    "from itertools import cycle\n",
    "from keras.models import Model, Input, load_model\n",
    "from tensorflow.keras import datasets, layers, models\n",
    "from keras.callbacks import EarlyStopping, ModelCheckpoint\n",
    "from sklearn.metrics import classification_report, confusion_matrix, plot_confusion_matrix, roc_curve, auc\n"
   ]
  },
  {
   "cell_type": "markdown",
   "metadata": {},
   "source": [
    "#  Data Processing"
   ]
  },
  {
   "cell_type": "code",
   "execution_count": null,
   "metadata": {},
   "outputs": [],
   "source": [
    "gear_defects = [0, 35, 76, 77]"
   ]
  },
  {
   "cell_type": "code",
   "execution_count": 2,
   "metadata": {},
   "outputs": [],
   "source": [
    "# Image size\n",
    "size = [300, 400]"
   ]
  },
  {
   "cell_type": "code",
   "execution_count": 3,
   "metadata": {},
   "outputs": [
    {
     "name": "stdout",
     "output_type": "stream",
     "text": [
      "0.5368242263793945\n"
     ]
    }
   ],
   "source": [
    "# Load pre-processed dataset\n",
    "X_train = np.load('gears_train_300x400_0,76,77,35.npy')\n",
    "X_test = np.load('gears_test_300x400_0,76,77,35.npy')\n",
    "y_train = np.load('gears_ytrain_300x400_0,76,77,35.npy')\n",
    "y_test = np.load('gears_ytest_300x400_0,76,77,35.npy')"
   ]
  },
  {
   "cell_type": "markdown",
   "metadata": {},
   "source": [
    "# Training "
   ]
  },
  {
   "cell_type": "code",
   "execution_count": 4,
   "metadata": {},
   "outputs": [],
   "source": [
    "# Define dense layer block\n",
    "def dense_layer(x, filter_num, layer_num):\n",
    "    layer_configs = {\"filters\" : filter_num, \n",
    "                     \"kernel_size\" : (3, 3), \n",
    "                     \"strides\" : 1, \n",
    "                     \"padding\" : \"same\", \n",
    "                     \"activation\" : \"relu\"}\n",
    "    dnet_layers = []\n",
    "    for i in range(2):\n",
    "        dnet_layer_1 = layers.Conv2D(layer_configs[\"filters\"], \n",
    "                                     layer_configs[\"kernel_size\"], \n",
    "                                     strides = layer_configs[\"strides\"], \n",
    "                                     padding = layer_configs[\"padding\"], \n",
    "                                     activation = layer_configs[\"activation\"])(x)\n",
    "        dnet_layers.append(dnet_layer_1)\n",
    "    for n in range(2, layer_num):\n",
    "        dnet_layer_1 = layers.Conv2D(layer_configs[\"filters\"],\n",
    "                                     layer_configs[\"kernel_size\"], \n",
    "                                     strides = layer_configs[\"strides\"], \n",
    "                                     padding = layer_configs[\"padding\"], \n",
    "                                     activation = layer_configs[\"activation\"])(layers.Concatenate(axis = 3)(dnet_layers))\n",
    "        dnet_layers.append(dnet_layer_1)\n",
    "    return dnet_layer_1\n"
   ]
  },
  {
   "cell_type": "code",
   "execution_count": 5,
   "metadata": {
    "scrolled": true
   },
   "outputs": [
    {
     "name": "stdout",
     "output_type": "stream",
     "text": [
      "Model: \"functional_1\"\n",
      "__________________________________________________________________________________________________\n",
      "Layer (type)                    Output Shape         Param #     Connected to                     \n",
      "==================================================================================================\n",
      "input_1 (InputLayer)            [(None, 300, 400, 1) 0                                            \n",
      "__________________________________________________________________________________________________\n",
      "conv2d (Conv2D)                 (None, 300, 400, 4)  40          input_1[0][0]                    \n",
      "__________________________________________________________________________________________________\n",
      "conv2d_1 (Conv2D)               (None, 300, 400, 16) 592         conv2d[0][0]                     \n",
      "__________________________________________________________________________________________________\n",
      "conv2d_2 (Conv2D)               (None, 300, 400, 16) 592         conv2d[0][0]                     \n",
      "__________________________________________________________________________________________________\n",
      "concatenate (Concatenate)       (None, 300, 400, 32) 0           conv2d_1[0][0]                   \n",
      "                                                                 conv2d_2[0][0]                   \n",
      "__________________________________________________________________________________________________\n",
      "conv2d_3 (Conv2D)               (None, 300, 400, 16) 4624        concatenate[0][0]                \n",
      "__________________________________________________________________________________________________\n",
      "dropout (Dropout)               (None, 300, 400, 16) 0           conv2d_3[0][0]                   \n",
      "__________________________________________________________________________________________________\n",
      "batch_normalization (BatchNorma (None, 300, 400, 16) 64          dropout[0][0]                    \n",
      "__________________________________________________________________________________________________\n",
      "conv2d_4 (Conv2D)               (None, 300, 400, 16) 2320        batch_normalization[0][0]        \n",
      "__________________________________________________________________________________________________\n",
      "conv2d_5 (Conv2D)               (None, 300, 400, 16) 2320        batch_normalization[0][0]        \n",
      "__________________________________________________________________________________________________\n",
      "concatenate_1 (Concatenate)     (None, 300, 400, 32) 0           conv2d_4[0][0]                   \n",
      "                                                                 conv2d_5[0][0]                   \n",
      "__________________________________________________________________________________________________\n",
      "conv2d_6 (Conv2D)               (None, 300, 400, 16) 4624        concatenate_1[0][0]              \n",
      "__________________________________________________________________________________________________\n",
      "dropout_1 (Dropout)             (None, 300, 400, 16) 0           conv2d_6[0][0]                   \n",
      "__________________________________________________________________________________________________\n",
      "batch_normalization_1 (BatchNor (None, 300, 400, 16) 64          dropout_1[0][0]                  \n",
      "__________________________________________________________________________________________________\n",
      "conv2d_7 (Conv2D)               (None, 300, 400, 16) 2320        batch_normalization_1[0][0]      \n",
      "__________________________________________________________________________________________________\n",
      "conv2d_8 (Conv2D)               (None, 300, 400, 16) 2320        batch_normalization_1[0][0]      \n",
      "__________________________________________________________________________________________________\n",
      "concatenate_2 (Concatenate)     (None, 300, 400, 32) 0           conv2d_7[0][0]                   \n",
      "                                                                 conv2d_8[0][0]                   \n",
      "__________________________________________________________________________________________________\n",
      "conv2d_9 (Conv2D)               (None, 300, 400, 16) 4624        concatenate_2[0][0]              \n",
      "__________________________________________________________________________________________________\n",
      "dropout_2 (Dropout)             (None, 300, 400, 16) 0           conv2d_9[0][0]                   \n",
      "__________________________________________________________________________________________________\n",
      "batch_normalization_2 (BatchNor (None, 300, 400, 16) 64          dropout_2[0][0]                  \n",
      "__________________________________________________________________________________________________\n",
      "conv2d_10 (Conv2D)              (None, 300, 400, 16) 2320        batch_normalization_2[0][0]      \n",
      "__________________________________________________________________________________________________\n",
      "conv2d_11 (Conv2D)              (None, 300, 400, 16) 2320        batch_normalization_2[0][0]      \n",
      "__________________________________________________________________________________________________\n",
      "concatenate_3 (Concatenate)     (None, 300, 400, 32) 0           conv2d_10[0][0]                  \n",
      "                                                                 conv2d_11[0][0]                  \n",
      "__________________________________________________________________________________________________\n",
      "conv2d_12 (Conv2D)              (None, 300, 400, 16) 4624        concatenate_3[0][0]              \n",
      "__________________________________________________________________________________________________\n",
      "dropout_3 (Dropout)             (None, 300, 400, 16) 0           conv2d_12[0][0]                  \n",
      "__________________________________________________________________________________________________\n",
      "max_pooling2d (MaxPooling2D)    (None, 150, 200, 16) 0           dropout_3[0][0]                  \n",
      "__________________________________________________________________________________________________\n",
      "batch_normalization_3 (BatchNor (None, 150, 200, 16) 64          max_pooling2d[0][0]              \n",
      "__________________________________________________________________________________________________\n",
      "flatten (Flatten)               (None, 480000)       0           batch_normalization_3[0][0]      \n",
      "__________________________________________________________________________________________________\n",
      "dense (Dense)                   (None, 4)            1920004     flatten[0][0]                    \n",
      "==================================================================================================\n",
      "Total params: 1,953,900\n",
      "Trainable params: 1,953,772\n",
      "Non-trainable params: 128\n",
      "__________________________________________________________________________________________________\n"
     ]
    }
   ],
   "source": [
    "# Set up architecture\n",
    "layer_num = 3\n",
    "dropout = 0.5\n",
    "inp = Input(shape = X_train[0].shape)\n",
    "x = inp\n",
    "x = layers.Conv2D(4, (3, 3), strides = 1, padding = \"same\", activation = \"relu\")(x)\n",
    "x = dense_layer(x, 16, layer_num)\n",
    "x = layers.Dropout(dropout)(x)\n",
    "\n",
    "x = layers.BatchNormalization(axis = 3)(x)\n",
    "x = dense_layer(x, 16, layer_num)\n",
    "x = layers.Dropout(dropout)(x)\n",
    "\n",
    "x = layers.BatchNormalization(axis = 3)(x)\n",
    "x = dense_layer(x, 16, layer_num)\n",
    "x = layers.Dropout(dropout)(x)\n",
    "\n",
    "x = layers.BatchNormalization(axis = 3)(x)\n",
    "x = dense_layer(x, 16, layer_num)\n",
    "x = layers.Dropout(dropout)(x)\n",
    "\n",
    "x = layers.MaxPooling2D((2, 2))(x)\n",
    "x = layers.BatchNormalization(axis = 3)(x)\n",
    "\n",
    "x = layers.Flatten()(x)\n",
    "x = layers.Dense(len(np.unique(y_train)), activation=\"softmax\")(x)\n",
    "\n",
    "dense_net = Model(inp, x)\n",
    "dense_net.compile(optimizer='adam',\n",
    "              loss=tf.keras.losses.SparseCategoricalCrossentropy(from_logits=True),\n",
    "              metrics=['accuracy'])\n",
    "dense_net.summary()"
   ]
  },
  {
   "cell_type": "code",
   "execution_count": 8,
   "metadata": {},
   "outputs": [],
   "source": [
    "# Define early stopping and best model checkpoint\n",
    "es = EarlyStopping(monitor='accuracy', mode='max', verbose=1, min_delta=0.1, patience=40)\n",
    "mc = ModelCheckpoint('dnebest_model.h5', monitor='val_accuracy', save_weights_only=True, mode='max', verbose=1, save_best_only=True)"
   ]
  },
  {
   "cell_type": "code",
   "execution_count": 9,
   "metadata": {
    "scrolled": true
   },
   "outputs": [
    {
     "name": "stdout",
     "output_type": "stream",
     "text": [
      "Epoch 1/100\n",
      "  2/262 [..............................] - ETA: 1:12 - loss: 0.8218 - accuracy: 0.9219WARNING:tensorflow:Callbacks method `on_train_batch_end` is slow compared to the batch time (batch time: 0.1340s vs `on_train_batch_end` time: 0.4249s). Check your callbacks.\n",
      "262/262 [==============================] - ETA: 0s - loss: 0.8729 - accuracy: 0.8707\n",
      "Epoch 00001: val_accuracy improved from -inf to 0.75048, saving model to dnebest_model.h5\n",
      "262/262 [==============================] - 153s 584ms/step - loss: 0.8729 - accuracy: 0.8707 - val_loss: 0.9932 - val_accuracy: 0.7505\n",
      "Epoch 2/100\n",
      "262/262 [==============================] - ETA: 0s - loss: 0.8729 - accuracy: 0.8707\n",
      "Epoch 00002: val_accuracy improved from 0.75048 to 0.78757, saving model to dnebest_model.h5\n",
      "262/262 [==============================] - 152s 580ms/step - loss: 0.8729 - accuracy: 0.8707 - val_loss: 0.9560 - val_accuracy: 0.7876\n",
      "Epoch 3/100\n",
      "262/262 [==============================] - ETA: 0s - loss: 0.8698 - accuracy: 0.8738\n",
      "Epoch 00003: val_accuracy improved from 0.78757 to 0.80780, saving model to dnebest_model.h5\n",
      "262/262 [==============================] - 152s 581ms/step - loss: 0.8698 - accuracy: 0.8738 - val_loss: 0.9358 - val_accuracy: 0.8078\n",
      "Epoch 4/100\n",
      "262/262 [==============================] - ETA: 0s - loss: 0.8514 - accuracy: 0.8923\n",
      "Epoch 00004: val_accuracy did not improve from 0.80780\n",
      "262/262 [==============================] - 152s 581ms/step - loss: 0.8514 - accuracy: 0.8923 - val_loss: 0.9758 - val_accuracy: 0.7673\n",
      "Epoch 5/100\n",
      "262/262 [==============================] - ETA: 0s - loss: 0.8643 - accuracy: 0.8793\n",
      "Epoch 00005: val_accuracy improved from 0.80780 to 0.81166, saving model to dnebest_model.h5\n",
      "262/262 [==============================] - 152s 578ms/step - loss: 0.8643 - accuracy: 0.8793 - val_loss: 0.9320 - val_accuracy: 0.8117\n",
      "Epoch 6/100\n",
      "262/262 [==============================] - ETA: 0s - loss: 0.8758 - accuracy: 0.8679\n",
      "Epoch 00006: val_accuracy did not improve from 0.81166\n",
      "262/262 [==============================] - 151s 578ms/step - loss: 0.8758 - accuracy: 0.8679 - val_loss: 0.9777 - val_accuracy: 0.7659\n",
      "Epoch 7/100\n",
      "262/262 [==============================] - ETA: 0s - loss: 0.8689 - accuracy: 0.8748\n",
      "Epoch 00007: val_accuracy did not improve from 0.81166\n",
      "262/262 [==============================] - 152s 581ms/step - loss: 0.8689 - accuracy: 0.8748 - val_loss: 0.9565 - val_accuracy: 0.7871\n",
      "Epoch 8/100\n",
      "262/262 [==============================] - ETA: 0s - loss: 0.8697 - accuracy: 0.8740\n",
      "Epoch 00008: val_accuracy did not improve from 0.81166\n",
      "262/262 [==============================] - 152s 582ms/step - loss: 0.8697 - accuracy: 0.8740 - val_loss: 0.9575 - val_accuracy: 0.7861\n",
      "Epoch 9/100\n",
      "262/262 [==============================] - ETA: 0s - loss: 0.8765 - accuracy: 0.8673\n",
      "Epoch 00009: val_accuracy did not improve from 0.81166\n",
      "262/262 [==============================] - 152s 581ms/step - loss: 0.8765 - accuracy: 0.8673 - val_loss: 0.9575 - val_accuracy: 0.7861\n",
      "Epoch 10/100\n",
      "262/262 [==============================] - ETA: 0s - loss: 0.8690 - accuracy: 0.8747\n",
      "Epoch 00010: val_accuracy did not improve from 0.81166\n",
      "262/262 [==============================] - 152s 581ms/step - loss: 0.8690 - accuracy: 0.8747 - val_loss: 0.9575 - val_accuracy: 0.7861\n",
      "Epoch 11/100\n",
      "262/262 [==============================] - ETA: 0s - loss: 0.8690 - accuracy: 0.8747\n",
      "Epoch 00011: val_accuracy did not improve from 0.81166\n",
      "262/262 [==============================] - 152s 582ms/step - loss: 0.8690 - accuracy: 0.8747 - val_loss: 0.9575 - val_accuracy: 0.7861\n",
      "Epoch 12/100\n",
      "262/262 [==============================] - ETA: 0s - loss: 0.8690 - accuracy: 0.8747\n",
      "Epoch 00012: val_accuracy did not improve from 0.81166\n",
      "262/262 [==============================] - 152s 580ms/step - loss: 0.8690 - accuracy: 0.8747 - val_loss: 0.9575 - val_accuracy: 0.7861\n",
      "Epoch 13/100\n",
      "262/262 [==============================] - ETA: 0s - loss: 0.8690 - accuracy: 0.8747\n",
      "Epoch 00013: val_accuracy did not improve from 0.81166\n",
      "262/262 [==============================] - 152s 581ms/step - loss: 0.8690 - accuracy: 0.8747 - val_loss: 0.9575 - val_accuracy: 0.7861\n",
      "Epoch 14/100\n",
      "262/262 [==============================] - ETA: 0s - loss: 0.8690 - accuracy: 0.8747\n",
      "Epoch 00014: val_accuracy did not improve from 0.81166\n",
      "262/262 [==============================] - 153s 584ms/step - loss: 0.8690 - accuracy: 0.8747 - val_loss: 0.9575 - val_accuracy: 0.7861\n",
      "Epoch 15/100\n",
      "262/262 [==============================] - ETA: 0s - loss: 0.8691 - accuracy: 0.8746\n",
      "Epoch 00015: val_accuracy did not improve from 0.81166\n",
      "262/262 [==============================] - 155s 593ms/step - loss: 0.8691 - accuracy: 0.8746 - val_loss: 0.9575 - val_accuracy: 0.7861\n",
      "Epoch 16/100\n",
      "262/262 [==============================] - ETA: 0s - loss: 0.8690 - accuracy: 0.8747\n",
      "Epoch 00016: val_accuracy did not improve from 0.81166\n",
      "262/262 [==============================] - 155s 593ms/step - loss: 0.8690 - accuracy: 0.8747 - val_loss: 0.9575 - val_accuracy: 0.7861\n",
      "Epoch 17/100\n",
      "262/262 [==============================] - ETA: 0s - loss: 0.8690 - accuracy: 0.8747\n",
      "Epoch 00017: val_accuracy did not improve from 0.81166\n",
      "262/262 [==============================] - 155s 593ms/step - loss: 0.8690 - accuracy: 0.8747 - val_loss: 0.9575 - val_accuracy: 0.7861\n",
      "Epoch 18/100\n",
      "262/262 [==============================] - ETA: 0s - loss: 0.8690 - accuracy: 0.8747\n",
      "Epoch 00018: val_accuracy did not improve from 0.81166\n",
      "262/262 [==============================] - 155s 593ms/step - loss: 0.8690 - accuracy: 0.8747 - val_loss: 0.9575 - val_accuracy: 0.7861\n",
      "Epoch 19/100\n",
      "262/262 [==============================] - ETA: 0s - loss: 0.8690 - accuracy: 0.8747\n",
      "Epoch 00019: val_accuracy did not improve from 0.81166\n",
      "262/262 [==============================] - 155s 592ms/step - loss: 0.8690 - accuracy: 0.8747 - val_loss: 0.9575 - val_accuracy: 0.7861\n",
      "Epoch 20/100\n",
      "262/262 [==============================] - ETA: 0s - loss: 0.8691 - accuracy: 0.8746\n",
      "Epoch 00020: val_accuracy did not improve from 0.81166\n",
      "262/262 [==============================] - 155s 593ms/step - loss: 0.8691 - accuracy: 0.8746 - val_loss: 0.9575 - val_accuracy: 0.7861\n",
      "Epoch 21/100\n",
      "262/262 [==============================] - ETA: 0s - loss: 0.8690 - accuracy: 0.8747\n",
      "Epoch 00021: val_accuracy did not improve from 0.81166\n",
      "262/262 [==============================] - 155s 593ms/step - loss: 0.8690 - accuracy: 0.8747 - val_loss: 0.9575 - val_accuracy: 0.7861\n",
      "Epoch 22/100\n",
      "262/262 [==============================] - ETA: 0s - loss: 0.8690 - accuracy: 0.8747\n",
      "Epoch 00022: val_accuracy did not improve from 0.81166\n",
      "262/262 [==============================] - 155s 592ms/step - loss: 0.8690 - accuracy: 0.8747 - val_loss: 0.9575 - val_accuracy: 0.7861\n",
      "Epoch 23/100\n",
      "262/262 [==============================] - ETA: 0s - loss: 0.8690 - accuracy: 0.8747\n",
      "Epoch 00023: val_accuracy did not improve from 0.81166\n",
      "262/262 [==============================] - 153s 584ms/step - loss: 0.8690 - accuracy: 0.8747 - val_loss: 0.9575 - val_accuracy: 0.7861\n",
      "Epoch 24/100\n",
      "262/262 [==============================] - ETA: 0s - loss: 0.8690 - accuracy: 0.8747\n",
      "Epoch 00024: val_accuracy did not improve from 0.81166\n",
      "262/262 [==============================] - 152s 581ms/step - loss: 0.8690 - accuracy: 0.8747 - val_loss: 0.9575 - val_accuracy: 0.7861\n",
      "Epoch 25/100\n",
      "262/262 [==============================] - ETA: 0s - loss: 0.8690 - accuracy: 0.8747\n",
      "Epoch 00025: val_accuracy did not improve from 0.81166\n",
      "262/262 [==============================] - 152s 580ms/step - loss: 0.8690 - accuracy: 0.8747 - val_loss: 0.9575 - val_accuracy: 0.7861\n",
      "Epoch 26/100\n",
      "262/262 [==============================] - ETA: 0s - loss: 0.8903 - accuracy: 0.8534\n",
      "Epoch 00026: val_accuracy did not improve from 0.81166\n",
      "262/262 [==============================] - 152s 580ms/step - loss: 0.8903 - accuracy: 0.8534 - val_loss: 1.0457 - val_accuracy: 0.6970\n",
      "Epoch 27/100\n",
      "262/262 [==============================] - ETA: 0s - loss: 0.8651 - accuracy: 0.8786\n",
      "Epoch 00027: val_accuracy did not improve from 0.81166\n",
      "262/262 [==============================] - 152s 580ms/step - loss: 0.8651 - accuracy: 0.8786 - val_loss: 1.6637 - val_accuracy: 0.0800\n",
      "Epoch 28/100\n",
      "262/262 [==============================] - ETA: 0s - loss: 0.8692 - accuracy: 0.8744\n",
      "Epoch 00028: val_accuracy did not improve from 0.81166\n",
      "262/262 [==============================] - 151s 578ms/step - loss: 0.8692 - accuracy: 0.8744 - val_loss: 0.9575 - val_accuracy: 0.7861\n",
      "Epoch 29/100\n",
      "262/262 [==============================] - ETA: 0s - loss: 0.8692 - accuracy: 0.8744\n",
      "Epoch 00029: val_accuracy did not improve from 0.81166\n",
      "262/262 [==============================] - 151s 578ms/step - loss: 0.8692 - accuracy: 0.8744 - val_loss: 0.9575 - val_accuracy: 0.7861\n",
      "Epoch 30/100\n",
      "262/262 [==============================] - ETA: 0s - loss: 0.8692 - accuracy: 0.8744\n",
      "Epoch 00030: val_accuracy did not improve from 0.81166\n",
      "262/262 [==============================] - 151s 578ms/step - loss: 0.8692 - accuracy: 0.8744 - val_loss: 0.9575 - val_accuracy: 0.7861\n",
      "Epoch 31/100\n",
      "262/262 [==============================] - ETA: 0s - loss: 0.8692 - accuracy: 0.8744\n",
      "Epoch 00031: val_accuracy did not improve from 0.81166\n",
      "262/262 [==============================] - 151s 578ms/step - loss: 0.8692 - accuracy: 0.8744 - val_loss: 0.9575 - val_accuracy: 0.7861\n",
      "Epoch 32/100\n",
      "262/262 [==============================] - ETA: 0s - loss: 0.8692 - accuracy: 0.8744\n",
      "Epoch 00032: val_accuracy did not improve from 0.81166\n",
      "262/262 [==============================] - 152s 579ms/step - loss: 0.8692 - accuracy: 0.8744 - val_loss: 0.9575 - val_accuracy: 0.7861\n",
      "Epoch 33/100\n",
      "262/262 [==============================] - ETA: 0s - loss: 0.8692 - accuracy: 0.8744\n",
      "Epoch 00033: val_accuracy did not improve from 0.81166\n",
      "262/262 [==============================] - 153s 584ms/step - loss: 0.8692 - accuracy: 0.8744 - val_loss: 0.9575 - val_accuracy: 0.7861\n",
      "Epoch 34/100\n",
      "262/262 [==============================] - ETA: 0s - loss: 0.8692 - accuracy: 0.8744\n",
      "Epoch 00034: val_accuracy did not improve from 0.81166\n",
      "262/262 [==============================] - 153s 583ms/step - loss: 0.8692 - accuracy: 0.8744 - val_loss: 0.9575 - val_accuracy: 0.7861\n",
      "Epoch 35/100\n",
      "262/262 [==============================] - ETA: 0s - loss: 0.8692 - accuracy: 0.8744\n",
      "Epoch 00035: val_accuracy did not improve from 0.81166\n",
      "262/262 [==============================] - 153s 584ms/step - loss: 0.8692 - accuracy: 0.8744 - val_loss: 0.9575 - val_accuracy: 0.7861\n",
      "Epoch 36/100\n",
      "262/262 [==============================] - ETA: 0s - loss: 0.8692 - accuracy: 0.8744\n",
      "Epoch 00036: val_accuracy did not improve from 0.81166\n",
      "262/262 [==============================] - 153s 583ms/step - loss: 0.8692 - accuracy: 0.8744 - val_loss: 0.9575 - val_accuracy: 0.7861\n",
      "Epoch 37/100\n",
      "262/262 [==============================] - ETA: 0s - loss: 0.8692 - accuracy: 0.8744\n",
      "Epoch 00037: val_accuracy did not improve from 0.81166\n",
      "262/262 [==============================] - 153s 583ms/step - loss: 0.8692 - accuracy: 0.8744 - val_loss: 0.9575 - val_accuracy: 0.7861\n",
      "Epoch 38/100\n",
      "262/262 [==============================] - ETA: 0s - loss: 0.8692 - accuracy: 0.8744\n",
      "Epoch 00038: val_accuracy did not improve from 0.81166\n",
      "262/262 [==============================] - 152s 581ms/step - loss: 0.8692 - accuracy: 0.8744 - val_loss: 0.9575 - val_accuracy: 0.7861\n",
      "Epoch 39/100\n",
      "262/262 [==============================] - ETA: 0s - loss: 0.8692 - accuracy: 0.8744\n",
      "Epoch 00039: val_accuracy did not improve from 0.81166\n",
      "262/262 [==============================] - 152s 581ms/step - loss: 0.8692 - accuracy: 0.8744 - val_loss: 0.9575 - val_accuracy: 0.7861\n",
      "Epoch 40/100\n",
      "262/262 [==============================] - ETA: 0s - loss: 0.8699 - accuracy: 0.8737\n",
      "Epoch 00040: val_accuracy did not improve from 0.81166\n",
      "262/262 [==============================] - 152s 582ms/step - loss: 0.8699 - accuracy: 0.8737 - val_loss: 1.6275 - val_accuracy: 0.1161\n",
      "Epoch 41/100\n",
      "262/262 [==============================] - ETA: 0s - loss: 0.8819 - accuracy: 0.8618\n",
      "Epoch 00041: val_accuracy did not improve from 0.81166\n",
      "262/262 [==============================] - 152s 581ms/step - loss: 0.8819 - accuracy: 0.8618 - val_loss: 1.6685 - val_accuracy: 0.0751\n",
      "Epoch 00041: early stopping\n"
     ]
    }
   ],
   "source": [
    "# Fitting model with early stopping and checkpoint save\n",
    "history = dense_net.fit(X_train, y_train, epochs=100, \n",
    "                    validation_data=(X_test, y_test), callbacks=[es, mc])"
   ]
  },
  {
   "cell_type": "code",
   "execution_count": 34,
   "metadata": {
    "scrolled": true
   },
   "outputs": [],
   "source": [
    "# Load the best model\n",
    "dense_net.load_weights('dnebest_model.h5')"
   ]
  },
  {
   "cell_type": "code",
   "execution_count": 38,
   "metadata": {},
   "outputs": [],
   "source": [
    "dense_net.save(\"densenet_early_stop.h5\")"
   ]
  },
  {
   "cell_type": "code",
   "execution_count": 43,
   "metadata": {},
   "outputs": [],
   "source": [
    "# Convert the history.history dict to a pandas DataFrame  \n",
    "hist_df = pd.DataFrame(history.history) \n",
    "\n",
    "# Save to json for plots  \n",
    "hist_json_file = 'densenet_history.json' \n",
    "with open(hist_json_file, mode='w') as f:\n",
    "    hist_df.to_json(f)"
   ]
  },
  {
   "cell_type": "markdown",
   "metadata": {},
   "source": [
    "# Metrics"
   ]
  },
  {
   "cell_type": "code",
   "execution_count": 35,
   "metadata": {},
   "outputs": [
    {
     "name": "stdout",
     "output_type": "stream",
     "text": [
      "65/65 - 6s - loss: 0.9190 - accuracy: 0.8247\n",
      "\n",
      "Test accuracy: 0.8246628046035767\n"
     ]
    }
   ],
   "source": [
    "test_loss, test_acc = dense_net.evaluate(X_test,  y_test, verbose=2)\n",
    "print('\\nTest accuracy:', test_acc)"
   ]
  },
  {
   "cell_type": "code",
   "execution_count": 41,
   "metadata": {},
   "outputs": [
    {
     "name": "stdout",
     "output_type": "stream",
     "text": [
      "              precision    recall  f1-score   support\n",
      "\n",
      "           0       0.00      0.00      0.00       166\n",
      "           1       1.00      0.78      0.88       198\n",
      "           2       0.81      1.00      0.90      1558\n",
      "           3       0.00      0.00      0.00       154\n",
      "\n",
      "    accuracy                           0.82      2076\n",
      "   macro avg       0.45      0.44      0.44      2076\n",
      "weighted avg       0.70      0.82      0.76      2076\n",
      "\n"
     ]
    }
   ],
   "source": [
    "# Show metrics\n",
    "predictions = dnebest_model.predict(X_test)\n",
    "y_pred = predictions.argmax(axis=1).astype(int)\n",
    "print(classification_report(y_test, y_pred))"
   ]
  },
  {
   "cell_type": "code",
   "execution_count": 37,
   "metadata": {
    "scrolled": false
   },
   "outputs": [
    {
     "data": {
      "image/png": "[encoded data removed]",
      "text/plain": [
       "<Figure size 432x288 with 1 Axes>"
      ]
     },
     "metadata": {
      "needs_background": "light"
     },
     "output_type": "display_data"
    },
    {
     "data": {
      "image/png": "[encoded data removed]",
      "text/plain": [
       "<Figure size 432x288 with 1 Axes>"
      ]
     },
     "metadata": {
      "needs_background": "light"
     },
     "output_type": "display_data"
    }
   ],
   "source": [
    "# Plot train and test validation of loss values and accuracy values\n",
    "acc = history.history['accuracy']\n",
    "val_acc = history.history['val_accuracy']\n",
    "loss = history.history['loss']\n",
    "val_loss = history.history['val_loss']\n",
    "epochs = range(1, len(acc) + 1)\n",
    "plt.plot(epochs, acc, 'r--', label='Training acc')\n",
    "plt.plot(epochs, val_acc, 'b', label='Validation acc')\n",
    "plt.title('Training and validation accuracy')\n",
    "plt.legend()\n",
    "plt.figure()\n",
    "plt.plot(epochs, loss, 'r--', label='Training loss')\n",
    "plt.plot(epochs, val_loss, 'b', label='Validation loss')\n",
    "plt.ylim([0,1.5])\n",
    "plt.title('Training and validation loss')\n",
    "plt.legend()\n",
    "plt.show()"
   ]
  },
  {
   "cell_type": "code",
   "execution_count": 39,
   "metadata": {},
   "outputs": [],
   "source": [
    "# ROC binary label reshaping\n",
    "y_pred_roc = (y_pred[:,None] == np.arange(y_pred.max()+1)).astype(int)\n",
    "y_test_roc = (y_test[:,None] == np.arange(y_test.max()+1)).astype(int)"
   ]
  },
  {
   "cell_type": "code",
   "execution_count": 40,
   "metadata": {
    "scrolled": true
   },
   "outputs": [
    {
     "ename": "ValueError",
     "evalue": "Found input variables with inconsistent numbers of samples: [8304, 6228]",
     "output_type": "error",
     "traceback": [
      "\u001b[1;31m---------------------------------------------------------------------------\u001b[0m",
      "\u001b[1;31mValueError\u001b[0m                                Traceback (most recent call last)",
      "\u001b[1;32m<ipython-input-40-3b171821a420>\u001b[0m in \u001b[0;36m<module>\u001b[1;34m\u001b[0m\n\u001b[0;32m     60\u001b[0m     \u001b[0mplt\u001b[0m\u001b[1;33m.\u001b[0m\u001b[0mshow\u001b[0m\u001b[1;33m(\u001b[0m\u001b[1;33m)\u001b[0m\u001b[1;33m\u001b[0m\u001b[1;33m\u001b[0m\u001b[0m\n\u001b[0;32m     61\u001b[0m \u001b[1;33m\u001b[0m\u001b[0m\n\u001b[1;32m---> 62\u001b[1;33m \u001b[0mplot_roc\u001b[0m\u001b[1;33m(\u001b[0m\u001b[0my_test_roc\u001b[0m\u001b[1;33m,\u001b[0m\u001b[0my_pred_roc\u001b[0m\u001b[1;33m)\u001b[0m\u001b[1;33m\u001b[0m\u001b[1;33m\u001b[0m\u001b[0m\n\u001b[0m",
      "\u001b[1;32m<ipython-input-40-3b171821a420>\u001b[0m in \u001b[0;36mplot_roc\u001b[1;34m(y_test, y_pred)\u001b[0m\n\u001b[0;32m     13\u001b[0m \u001b[1;33m\u001b[0m\u001b[0m\n\u001b[0;32m     14\u001b[0m     \u001b[1;31m# Compute micro-average ROC curve and ROC area\u001b[0m\u001b[1;33m\u001b[0m\u001b[1;33m\u001b[0m\u001b[1;33m\u001b[0m\u001b[0m\n\u001b[1;32m---> 15\u001b[1;33m     \u001b[0mfpr\u001b[0m\u001b[1;33m[\u001b[0m\u001b[1;34m\"micro\"\u001b[0m\u001b[1;33m]\u001b[0m\u001b[1;33m,\u001b[0m \u001b[0mtpr\u001b[0m\u001b[1;33m[\u001b[0m\u001b[1;34m\"micro\"\u001b[0m\u001b[1;33m]\u001b[0m\u001b[1;33m,\u001b[0m \u001b[0m_\u001b[0m \u001b[1;33m=\u001b[0m \u001b[0mroc_curve\u001b[0m\u001b[1;33m(\u001b[0m\u001b[0my_test_roc\u001b[0m\u001b[1;33m.\u001b[0m\u001b[0mravel\u001b[0m\u001b[1;33m(\u001b[0m\u001b[1;33m)\u001b[0m\u001b[1;33m,\u001b[0m \u001b[0my_pred_roc\u001b[0m\u001b[1;33m.\u001b[0m\u001b[0mravel\u001b[0m\u001b[1;33m(\u001b[0m\u001b[1;33m)\u001b[0m\u001b[1;33m)\u001b[0m\u001b[1;33m\u001b[0m\u001b[1;33m\u001b[0m\u001b[0m\n\u001b[0m\u001b[0;32m     16\u001b[0m     \u001b[0mroc_auc\u001b[0m\u001b[1;33m[\u001b[0m\u001b[1;34m\"micro\"\u001b[0m\u001b[1;33m]\u001b[0m \u001b[1;33m=\u001b[0m \u001b[0mauc\u001b[0m\u001b[1;33m(\u001b[0m\u001b[0mfpr\u001b[0m\u001b[1;33m[\u001b[0m\u001b[1;34m\"micro\"\u001b[0m\u001b[1;33m]\u001b[0m\u001b[1;33m,\u001b[0m \u001b[0mtpr\u001b[0m\u001b[1;33m[\u001b[0m\u001b[1;34m\"micro\"\u001b[0m\u001b[1;33m]\u001b[0m\u001b[1;33m)\u001b[0m\u001b[1;33m\u001b[0m\u001b[1;33m\u001b[0m\u001b[0m\n\u001b[0;32m     17\u001b[0m \u001b[1;33m\u001b[0m\u001b[0m\n",
      "\u001b[1;32mD:\\Program Files\\anaconda3\\lib\\site-packages\\sklearn\\utils\\validation.py\u001b[0m in \u001b[0;36minner_f\u001b[1;34m(*args, **kwargs)\u001b[0m\n\u001b[0;32m     71\u001b[0m                           FutureWarning)\n\u001b[0;32m     72\u001b[0m         \u001b[0mkwargs\u001b[0m\u001b[1;33m.\u001b[0m\u001b[0mupdate\u001b[0m\u001b[1;33m(\u001b[0m\u001b[1;33m{\u001b[0m\u001b[0mk\u001b[0m\u001b[1;33m:\u001b[0m \u001b[0marg\u001b[0m \u001b[1;32mfor\u001b[0m \u001b[0mk\u001b[0m\u001b[1;33m,\u001b[0m \u001b[0marg\u001b[0m \u001b[1;32min\u001b[0m \u001b[0mzip\u001b[0m\u001b[1;33m(\u001b[0m\u001b[0msig\u001b[0m\u001b[1;33m.\u001b[0m\u001b[0mparameters\u001b[0m\u001b[1;33m,\u001b[0m \u001b[0margs\u001b[0m\u001b[1;33m)\u001b[0m\u001b[1;33m}\u001b[0m\u001b[1;33m)\u001b[0m\u001b[1;33m\u001b[0m\u001b[1;33m\u001b[0m\u001b[0m\n\u001b[1;32m---> 73\u001b[1;33m         \u001b[1;32mreturn\u001b[0m \u001b[0mf\u001b[0m\u001b[1;33m(\u001b[0m\u001b[1;33m**\u001b[0m\u001b[0mkwargs\u001b[0m\u001b[1;33m)\u001b[0m\u001b[1;33m\u001b[0m\u001b[1;33m\u001b[0m\u001b[0m\n\u001b[0m\u001b[0;32m     74\u001b[0m     \u001b[1;32mreturn\u001b[0m \u001b[0minner_f\u001b[0m\u001b[1;33m\u001b[0m\u001b[1;33m\u001b[0m\u001b[0m\n\u001b[0;32m     75\u001b[0m \u001b[1;33m\u001b[0m\u001b[0m\n",
      "\u001b[1;32mD:\\Program Files\\anaconda3\\lib\\site-packages\\sklearn\\metrics\\_ranking.py\u001b[0m in \u001b[0;36mroc_curve\u001b[1;34m(y_true, y_score, pos_label, sample_weight, drop_intermediate)\u001b[0m\n\u001b[0;32m    773\u001b[0m \u001b[1;33m\u001b[0m\u001b[0m\n\u001b[0;32m    774\u001b[0m     \"\"\"\n\u001b[1;32m--> 775\u001b[1;33m     fps, tps, thresholds = _binary_clf_curve(\n\u001b[0m\u001b[0;32m    776\u001b[0m         y_true, y_score, pos_label=pos_label, sample_weight=sample_weight)\n\u001b[0;32m    777\u001b[0m \u001b[1;33m\u001b[0m\u001b[0m\n",
      "\u001b[1;32mD:\\Program Files\\anaconda3\\lib\\site-packages\\sklearn\\metrics\\_ranking.py\u001b[0m in \u001b[0;36m_binary_clf_curve\u001b[1;34m(y_true, y_score, pos_label, sample_weight)\u001b[0m\n\u001b[0;32m    539\u001b[0m         \u001b[1;32mraise\u001b[0m \u001b[0mValueError\u001b[0m\u001b[1;33m(\u001b[0m\u001b[1;34m\"{0} format is not supported\"\u001b[0m\u001b[1;33m.\u001b[0m\u001b[0mformat\u001b[0m\u001b[1;33m(\u001b[0m\u001b[0my_type\u001b[0m\u001b[1;33m)\u001b[0m\u001b[1;33m)\u001b[0m\u001b[1;33m\u001b[0m\u001b[1;33m\u001b[0m\u001b[0m\n\u001b[0;32m    540\u001b[0m \u001b[1;33m\u001b[0m\u001b[0m\n\u001b[1;32m--> 541\u001b[1;33m     \u001b[0mcheck_consistent_length\u001b[0m\u001b[1;33m(\u001b[0m\u001b[0my_true\u001b[0m\u001b[1;33m,\u001b[0m \u001b[0my_score\u001b[0m\u001b[1;33m,\u001b[0m \u001b[0msample_weight\u001b[0m\u001b[1;33m)\u001b[0m\u001b[1;33m\u001b[0m\u001b[1;33m\u001b[0m\u001b[0m\n\u001b[0m\u001b[0;32m    542\u001b[0m     \u001b[0my_true\u001b[0m \u001b[1;33m=\u001b[0m \u001b[0mcolumn_or_1d\u001b[0m\u001b[1;33m(\u001b[0m\u001b[0my_true\u001b[0m\u001b[1;33m)\u001b[0m\u001b[1;33m\u001b[0m\u001b[1;33m\u001b[0m\u001b[0m\n\u001b[0;32m    543\u001b[0m     \u001b[0my_score\u001b[0m \u001b[1;33m=\u001b[0m \u001b[0mcolumn_or_1d\u001b[0m\u001b[1;33m(\u001b[0m\u001b[0my_score\u001b[0m\u001b[1;33m)\u001b[0m\u001b[1;33m\u001b[0m\u001b[1;33m\u001b[0m\u001b[0m\n",
      "\u001b[1;32mD:\\Program Files\\anaconda3\\lib\\site-packages\\sklearn\\utils\\validation.py\u001b[0m in \u001b[0;36mcheck_consistent_length\u001b[1;34m(*arrays)\u001b[0m\n\u001b[0;32m    254\u001b[0m     \u001b[0muniques\u001b[0m \u001b[1;33m=\u001b[0m \u001b[0mnp\u001b[0m\u001b[1;33m.\u001b[0m\u001b[0munique\u001b[0m\u001b[1;33m(\u001b[0m\u001b[0mlengths\u001b[0m\u001b[1;33m)\u001b[0m\u001b[1;33m\u001b[0m\u001b[1;33m\u001b[0m\u001b[0m\n\u001b[0;32m    255\u001b[0m     \u001b[1;32mif\u001b[0m \u001b[0mlen\u001b[0m\u001b[1;33m(\u001b[0m\u001b[0muniques\u001b[0m\u001b[1;33m)\u001b[0m \u001b[1;33m>\u001b[0m \u001b[1;36m1\u001b[0m\u001b[1;33m:\u001b[0m\u001b[1;33m\u001b[0m\u001b[1;33m\u001b[0m\u001b[0m\n\u001b[1;32m--> 256\u001b[1;33m         raise ValueError(\"Found input variables with inconsistent numbers of\"\n\u001b[0m\u001b[0;32m    257\u001b[0m                          \" samples: %r\" % [int(l) for l in lengths])\n\u001b[0;32m    258\u001b[0m \u001b[1;33m\u001b[0m\u001b[0m\n",
      "\u001b[1;31mValueError\u001b[0m: Found input variables with inconsistent numbers of samples: [8304, 6228]"
     ]
    }
   ],
   "source": [
    "# Plot ROC\n",
    "def plot_roc(y_test, y_pred):\n",
    "    # Plot linewidth.\n",
    "    lw = 2\n",
    "    n_classes = len(y_pred_roc[0])\n",
    "    # Compute ROC curve and ROC area for each class\n",
    "    fpr = dict()\n",
    "    tpr = dict()\n",
    "    roc_auc = dict()\n",
    "    for i in range(n_classes):\n",
    "        fpr[i], tpr[i], _ = roc_curve(y_test_roc[:, i], y_pred_roc[:, i])\n",
    "        roc_auc[i] = auc(fpr[i], tpr[i])\n",
    "\n",
    "    # Compute micro-average ROC curve and ROC area\n",
    "    fpr[\"micro\"], tpr[\"micro\"], _ = roc_curve(y_test_roc.ravel(), y_pred_roc.ravel())\n",
    "    roc_auc[\"micro\"] = auc(fpr[\"micro\"], tpr[\"micro\"])\n",
    "\n",
    "    # Compute macro-average ROC curve and ROC area\n",
    "\n",
    "    # First aggregate all false positive rates\n",
    "    all_fpr = np.unique(np.concatenate([fpr[i] for i in range(n_classes)]))\n",
    "\n",
    "    # Then interpolate all ROC curves at this points\n",
    "    mean_tpr = np.zeros_like(all_fpr)\n",
    "    for i in range(n_classes):\n",
    "        mean_tpr += np.interp(all_fpr, fpr[i], tpr[i])\n",
    "\n",
    "    # Finally average it and compute AUC\n",
    "    mean_tpr /= n_classes\n",
    "\n",
    "    fpr[\"macro\"] = all_fpr\n",
    "    tpr[\"macro\"] = mean_tpr\n",
    "    roc_auc[\"macro\"] = auc(fpr[\"macro\"], tpr[\"macro\"])\n",
    "\n",
    "    # Plot all ROC curves\n",
    "    plt.figure(1)\n",
    "    plt.plot(fpr[\"micro\"], tpr[\"micro\"],\n",
    "             label='micro-average ROC curve (area = {0:0.2f})'\n",
    "                   ''.format(roc_auc[\"micro\"]),\n",
    "             color='deeppink', linestyle=':', linewidth=4)\n",
    "\n",
    "    plt.plot(fpr[\"macro\"], tpr[\"macro\"],\n",
    "             label='macro-average ROC curve (area = {0:0.2f})'\n",
    "                   ''.format(roc_auc[\"macro\"]),\n",
    "             color='navy', linestyle=':', linewidth=4)\n",
    "\n",
    "    colors = cycle(['aqua', 'darkorange', 'cornflowerblue'])\n",
    "    for i, color in zip(range(n_classes), colors):\n",
    "        plt.plot(fpr[i], tpr[i], color=color, lw=lw,\n",
    "                 label='ROC curve of class {0} (area = {1:0.2f})'\n",
    "                 ''.format(i, roc_auc[i]))\n",
    "\n",
    "    plt.plot([0, 1], [0, 1], 'k--', lw=lw)\n",
    "    plt.xlim([0.0, 1.0])\n",
    "    plt.ylim([0.0, 1.05])\n",
    "    plt.xlabel('False Positive Rate')\n",
    "    plt.ylabel('True Positive Rate')\n",
    "    plt.title('Some extension of Receiver operating characteristic to multi-class')\n",
    "    plt.legend(loc=\"lower right\")\n",
    "    plt.show()\n",
    "\n",
    "plot_roc(y_test_roc,y_pred_roc)"
   ]
  },
  {
   "cell_type": "code",
   "execution_count": 42,
   "metadata": {},
   "outputs": [
    {
     "data": {
      "text/plain": [
       "<AxesSubplot:>"
      ]
     },
     "execution_count": 42,
     "metadata": {},
     "output_type": "execute_result"
    },
    {
     "data": {
      "image/png": "[encoded data removed]",
      "text/plain": [
       "<Figure size 720x504 with 2 Axes>"
      ]
     },
     "metadata": {
      "needs_background": "light"
     },
     "output_type": "display_data"
    }
   ],
   "source": [
    "matrix = confusion_matrix(y_test, y_pred)\n",
    "df_cm = pd.DataFrame(matrix, index = [i for i in range(len(np.unique(y_test)))],\n",
    "                  columns = [i for i in range(len(np.unique(y_test)))])\n",
    "plt.figure(figsize = (10,7))\n",
    "sn.heatmap(df_cm, annot=True, fmt='g')"
   ]
  },
  {
   "cell_type": "code",
   "execution_count": null,
   "metadata": {},
   "outputs": [],
   "source": []
  }
 ],
 "metadata": {
  "kernelspec": {
   "display_name": "Python 3",
   "language": "python",
   "name": "python3"
  },
  "language_info": {
   "codemirror_mode": {
    "name": "ipython",
    "version": 3
   },
   "file_extension": ".py",
   "mimetype": "text/x-python",
   "name": "python",
   "nbconvert_exporter": "python",
   "pygments_lexer": "ipython3",
   "version": "3.8.3"
  }
 },
 "nbformat": 4,
 "nbformat_minor": 4
}
