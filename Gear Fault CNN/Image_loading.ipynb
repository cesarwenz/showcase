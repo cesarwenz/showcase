{
 "cells": [
  {
   "cell_type": "code",
   "execution_count": 32,
   "metadata": {},
   "outputs": [],
   "source": [
    "import time\n",
    "import sqlite3\n",
    "import os\n",
    "import random\n",
    "import numpy as np\n",
    "from PIL import Image"
   ]
  },
  {
   "cell_type": "code",
   "execution_count": 33,
   "metadata": {},
   "outputs": [],
   "source": [
    "# Import all images from camera 1\n",
    "conn = sqlite3.connect(os.path.realpath('../Project/data/defects.db'))\n",
    "cur = conn.cursor()\n",
    "cur.execute('SELECT * from images WHERE camera_number = 1')\n",
    "images = np.array(cur.fetchall())\n",
    "cur.execute('SELECT * from labels')\n",
    "labels = np.array(cur.fetchall())"
   ]
  },
  {
   "cell_type": "code",
   "execution_count": 34,
   "metadata": {
    "scrolled": true
   },
   "outputs": [
    {
     "name": "stdout",
     "output_type": "stream",
     "text": [
      "Image Table content:  ['2' '1' './data/images/2019-12-05/1_132205_1_0.png' '1' '0']\n",
      "Dataset Size:  14336\n",
      "Label Table content:  [ 1  1 35]\n",
      "Number of labeled gears:  711\n"
     ]
    }
   ],
   "source": [
    "print('Image Table content: ', images[0]) # Table columns ['id', 'scan_id', 'file_location', 'camera_number', 'image_set_number']\n",
    "print('Dataset Size: ', len(images)) # Each gear id has 22 images\n",
    "print('Label Table content: ', labels[0]) # Table columns ['id', 'scan_id', 'defect_id']\n",
    "print('Number of labeled gears: ', len(labels)) # Each gear id has a defect"
   ]
  },
  {
   "cell_type": "code",
   "execution_count": 35,
   "metadata": {},
   "outputs": [],
   "source": [
    "# Identify the defects of interest\n",
    "gear_defects = [0, 35, 76, 77]"
   ]
  },
  {
   "cell_type": "code",
   "execution_count": 36,
   "metadata": {},
   "outputs": [],
   "source": [
    "# Find the number of gear samples (each gear has 22 images)\n",
    "class_sizes = [np.size(np.where(labels[:,2]==gear_defects[i])) for i in range(len(gear_defects))]\n",
    "# Identify the smallest number of samples between defects\n",
    "sample_size = np.min(class_sizes)\n",
    "limit = 100"
   ]
  },
  {
   "cell_type": "code",
   "execution_count": 37,
   "metadata": {},
   "outputs": [
    {
     "data": {
      "text/plain": [
       "[45, 38, 359, 19]"
      ]
     },
     "execution_count": 37,
     "metadata": {},
     "output_type": "execute_result"
    }
   ],
   "source": [
    "# Class 0 -> 990 samples\n",
    "# Class 1 -> 836 samples\n",
    "# Class 2 -> 7898 samples\n",
    "# Class 3 -> 418 samples\n",
    "class_sizes"
   ]
  },
  {
   "cell_type": "code",
   "execution_count": 38,
   "metadata": {},
   "outputs": [],
   "source": [
    "# Find the gear ids (gear_id) that matches the defects and label them using gear_label_table\n",
    "gear_id = np.array([])\n",
    "gear_label_table = np.array([])\n",
    "for i in range(len(gear_defects)):\n",
    "    # Find gears index that correspond the defect\n",
    "    gear_id_ind = labels[np.where(labels[:,2]==gear_defects[i]), 1] \n",
    "    gear_id_ind = np.reshape(gear_id_ind, np.size(gear_id_ind))\n",
    "    # Array with all indexes\n",
    "    gear_id = np.append(gear_id, gear_id_ind)\n",
    "    # Store defect labels\n",
    "    gear_label_table = np.append(gear_label_table, np.ones(len(gear_id_ind))*gear_defects[i])"
   ]
  },
  {
   "cell_type": "code",
   "execution_count": 39,
   "metadata": {
    "scrolled": true
   },
   "outputs": [
    {
     "data": {
      "text/plain": [
       "array([ 0.,  0.,  0.,  0.,  0.,  0.,  0.,  0.,  0.,  0.,  0.,  0.,  0.,\n",
       "        0.,  0.,  0.,  0.,  0.,  0.,  0.,  0.,  0.,  0.,  0.,  0.,  0.,\n",
       "        0.,  0.,  0.,  0.,  0.,  0.,  0.,  0.,  0.,  0.,  0.,  0.,  0.,\n",
       "        0.,  0.,  0.,  0.,  0.,  0., 35., 35., 35., 35., 35., 35., 35.,\n",
       "       35., 35., 35., 35., 35., 35., 35., 35., 35., 35., 35., 35., 35.,\n",
       "       35., 35., 35., 35., 35., 35., 35., 35., 35., 35., 35., 35., 35.,\n",
       "       35., 35., 35., 35., 35., 76., 76., 76., 76., 76., 76., 76., 76.,\n",
       "       76., 76., 76., 76., 76., 76., 76., 76., 76., 76., 76., 76., 76.,\n",
       "       76., 76., 76., 76., 76., 76., 76., 76., 76., 76., 76., 76., 76.,\n",
       "       76., 76., 76., 76., 76., 76., 76., 76., 76., 76., 76., 76., 76.,\n",
       "       76., 76., 76., 76., 76., 76., 76., 76., 76., 76., 76., 76., 76.,\n",
       "       76., 76., 76., 76., 76., 76., 76., 76., 76., 76., 76., 76., 76.,\n",
       "       76., 76., 76., 76., 76., 76., 76., 76., 76., 76., 76., 76., 76.,\n",
       "       76., 76., 76., 76., 76., 76., 76., 76., 76., 76., 76., 76., 76.,\n",
       "       76., 76., 76., 76., 76., 76., 76., 76., 76., 76., 76., 76., 76.,\n",
       "       76., 76., 76., 76., 76., 76., 76., 76., 76., 76., 76., 76., 76.,\n",
       "       76., 76., 76., 76., 76., 76., 76., 76., 76., 76., 76., 76., 76.,\n",
       "       76., 76., 76., 76., 76., 76., 76., 76., 76., 76., 76., 76., 76.,\n",
       "       76., 76., 76., 76., 76., 76., 76., 76., 76., 76., 76., 76., 76.,\n",
       "       76., 76., 76., 76., 76., 76., 76., 76., 76., 76., 76., 76., 76.,\n",
       "       76., 76., 76., 76., 76., 76., 76., 76., 76., 76., 76., 76., 76.,\n",
       "       76., 76., 76., 76., 76., 76., 76., 76., 76., 76., 76., 76., 76.,\n",
       "       76., 76., 76., 76., 76., 76., 76., 76., 76., 76., 76., 76., 76.,\n",
       "       76., 76., 76., 76., 76., 76., 76., 76., 76., 76., 76., 76., 76.,\n",
       "       76., 76., 76., 76., 76., 76., 76., 76., 76., 76., 76., 76., 76.,\n",
       "       76., 76., 76., 76., 76., 76., 76., 76., 76., 76., 76., 76., 76.,\n",
       "       76., 76., 76., 76., 76., 76., 76., 76., 76., 76., 76., 76., 76.,\n",
       "       76., 76., 76., 76., 76., 76., 76., 76., 76., 76., 76., 76., 76.,\n",
       "       76., 76., 76., 76., 76., 76., 76., 76., 76., 76., 76., 76., 76.,\n",
       "       76., 76., 76., 76., 76., 76., 76., 76., 76., 76., 76., 76., 76.,\n",
       "       76., 76., 76., 76., 76., 76., 76., 76., 76., 76., 76., 76., 76.,\n",
       "       76., 76., 76., 76., 76., 76., 76., 76., 76., 76., 76., 76., 76.,\n",
       "       76., 76., 76., 76., 76., 76., 76., 76., 76., 76., 76., 76., 76.,\n",
       "       76., 76., 76., 76., 76., 76., 76., 76., 76., 76., 76., 76., 76.,\n",
       "       77., 77., 77., 77., 77., 77., 77., 77., 77., 77., 77., 77., 77.,\n",
       "       77., 77., 77., 77., 77., 77.])"
      ]
     },
     "execution_count": 39,
     "metadata": {},
     "output_type": "execute_result"
    }
   ],
   "source": [
    "gear_label_table"
   ]
  },
  {
   "cell_type": "code",
   "execution_count": 40,
   "metadata": {},
   "outputs": [],
   "source": [
    "# Create a shuffle list with row 0 to be gear id and row 1 to be defect id\n",
    "# Shuffle gears\n",
    "shuffle_list = np.append(np.reshape(gear_id, (len(gear_id),1)), \n",
    "                         np.reshape(gear_label_table, (len(gear_label_table),1)),\n",
    "                         axis=1).astype(int)\n",
    "np.random.shuffle(shuffle_list)"
   ]
  },
  {
   "cell_type": "code",
   "execution_count": 41,
   "metadata": {},
   "outputs": [
    {
     "data": {
      "text/plain": [
       "array([[383,  76],\n",
       "       [608,   0],\n",
       "       [307,  76],\n",
       "       [513,  35],\n",
       "       [194,  76],\n",
       "       [ 43,  76],\n",
       "       [228,  76],\n",
       "       [ 77,  76],\n",
       "       [ 36,  76],\n",
       "       [226,  76],\n",
       "       [201,  76],\n",
       "       [292,  76],\n",
       "       [ 79,  76],\n",
       "       [470,  77],\n",
       "       [ 84,  76],\n",
       "       [328,  76],\n",
       "       [448,  76],\n",
       "       [ 83,  76],\n",
       "       [377,  76],\n",
       "       [  6,  35],\n",
       "       [303,  76],\n",
       "       [382,  76],\n",
       "       [501,  76],\n",
       "       [344,  76],\n",
       "       [202,  76],\n",
       "       [100,  76],\n",
       "       [374,  76],\n",
       "       [109,  76],\n",
       "       [218,  76],\n",
       "       [126,  76],\n",
       "       [207,  76],\n",
       "       [293,  76],\n",
       "       [242,  76],\n",
       "       [ 47,  76],\n",
       "       [160,  76],\n",
       "       [399,  76],\n",
       "       [427,  76],\n",
       "       [128,  76],\n",
       "       [398,  76],\n",
       "       [255,  76],\n",
       "       [369,  76],\n",
       "       [516,  35],\n",
       "       [ 23,  35],\n",
       "       [368,  76],\n",
       "       [236,  76],\n",
       "       [290,  76],\n",
       "       [ 93,  76],\n",
       "       [391,  76],\n",
       "       [165,  76],\n",
       "       [ 50,  76],\n",
       "       [ 16,  35],\n",
       "       [286,  76],\n",
       "       [270,  76],\n",
       "       [312,  76],\n",
       "       [277,  76],\n",
       "       [102,  76],\n",
       "       [534,  35],\n",
       "       [103,  76],\n",
       "       [415,  76],\n",
       "       [337,  76],\n",
       "       [ 81,  76],\n",
       "       [381,  76],\n",
       "       [208,  76],\n",
       "       [ 68,  76],\n",
       "       [347,  76],\n",
       "       [603,   0],\n",
       "       [630,   0],\n",
       "       [ 51,  76],\n",
       "       [422,  76],\n",
       "       [ 65,  76],\n",
       "       [430,  76],\n",
       "       [308,  76],\n",
       "       [260,  76],\n",
       "       [414,  76],\n",
       "       [323,  76],\n",
       "       [205,  76],\n",
       "       [ 44,  76],\n",
       "       [124,  76],\n",
       "       [105,  76],\n",
       "       [ 86,  76],\n",
       "       [225,  76],\n",
       "       [401,  76],\n",
       "       [176,  76],\n",
       "       [443,  76],\n",
       "       [311,  76],\n",
       "       [133,  76],\n",
       "       [607,   0],\n",
       "       [480,  77],\n",
       "       [412,  76],\n",
       "       [380,  76],\n",
       "       [174,  76],\n",
       "       [152,  76],\n",
       "       [106,  76],\n",
       "       [437,  76],\n",
       "       [617,   0],\n",
       "       [529,  35],\n",
       "       [613,   0],\n",
       "       [135,  76],\n",
       "       [336,  76],\n",
       "       [216,  76],\n",
       "       [355,  76],\n",
       "       [476,  77],\n",
       "       [281,  76],\n",
       "       [ 41,  76],\n",
       "       [520,  35],\n",
       "       [536,  35],\n",
       "       [246,  76],\n",
       "       [117,  76],\n",
       "       [139,  76],\n",
       "       [ 75,  76],\n",
       "       [423,  76],\n",
       "       [329,  76],\n",
       "       [318,  76],\n",
       "       [467,  77],\n",
       "       [625,   0],\n",
       "       [238,  76],\n",
       "       [274,  76],\n",
       "       [361,  76],\n",
       "       [ 40,  76],\n",
       "       [599,   0],\n",
       "       [ 96,  76],\n",
       "       [521,  35],\n",
       "       [265,  76],\n",
       "       [233,  76],\n",
       "       [413,  76],\n",
       "       [175,  76],\n",
       "       [379,  76],\n",
       "       [169,  76],\n",
       "       [591,   0],\n",
       "       [279,  76],\n",
       "       [348,  76],\n",
       "       [450,   0],\n",
       "       [250,  76],\n",
       "       [352,  76],\n",
       "       [376,  76],\n",
       "       [626,   0],\n",
       "       [597,   0],\n",
       "       [ 24,  35],\n",
       "       [295,  76],\n",
       "       [291,  76],\n",
       "       [406,  76],\n",
       "       [425,  76],\n",
       "       [285,  76],\n",
       "       [114,  76],\n",
       "       [525,  35],\n",
       "       [ 53,  76],\n",
       "       [278,  76],\n",
       "       [481,  77],\n",
       "       [340,  76],\n",
       "       [ 87,  76],\n",
       "       [530,  35],\n",
       "       [616,   0],\n",
       "       [ 11,  76],\n",
       "       [441,  76],\n",
       "       [407,  76],\n",
       "       [609,   0],\n",
       "       [168,  76],\n",
       "       [ 62,  76],\n",
       "       [198,  76],\n",
       "       [  5,  35],\n",
       "       [593,   0],\n",
       "       [145,  76],\n",
       "       [483,  77],\n",
       "       [370,  76],\n",
       "       [262,  76],\n",
       "       [258,  76],\n",
       "       [234,  76],\n",
       "       [180,  76],\n",
       "       [266,  76],\n",
       "       [474,  77],\n",
       "       [619,   0],\n",
       "       [417,  76],\n",
       "       [434,  76],\n",
       "       [172,  76],\n",
       "       [283,  76],\n",
       "       [326,  76],\n",
       "       [230,  76],\n",
       "       [495,  77],\n",
       "       [612,   0],\n",
       "       [101,  76],\n",
       "       [367,  76],\n",
       "       [235,  76],\n",
       "       [223,  76],\n",
       "       [629,   0],\n",
       "       [ 49,  76],\n",
       "       [204,  76],\n",
       "       [179,  76],\n",
       "       [116,  76],\n",
       "       [429,  76],\n",
       "       [615,   0],\n",
       "       [537,  35],\n",
       "       [627,   0],\n",
       "       [345,  76],\n",
       "       [445,  76],\n",
       "       [386,  76],\n",
       "       [ 66,  76],\n",
       "       [330,  76],\n",
       "       [130,  76],\n",
       "       [ 82,  76],\n",
       "       [247,  76],\n",
       "       [605,   0],\n",
       "       [373,  76],\n",
       "       [327,  76],\n",
       "       [ 27,  35],\n",
       "       [ 30,   0],\n",
       "       [ 59,  76],\n",
       "       [214,  76],\n",
       "       [604,   0],\n",
       "       [ 55,  76],\n",
       "       [211,  76],\n",
       "       [ 72,  76],\n",
       "       [479,  77],\n",
       "       [560,  76],\n",
       "       [237,  76],\n",
       "       [306,  76],\n",
       "       [  6,  76],\n",
       "       [115,  76],\n",
       "       [ 37,  76],\n",
       "       [ 45,  76],\n",
       "       [287,  76],\n",
       "       [143,  76],\n",
       "       [191,  76],\n",
       "       [335,  76],\n",
       "       [468,  77],\n",
       "       [519,  35],\n",
       "       [275,  76],\n",
       "       [482,  77],\n",
       "       [346,  76],\n",
       "       [400,  76],\n",
       "       [248,  76],\n",
       "       [156,  76],\n",
       "       [409,  76],\n",
       "       [142,  76],\n",
       "       [280,  76],\n",
       "       [170,  76],\n",
       "       [322,  76],\n",
       "       [141,  76],\n",
       "       [600,   0],\n",
       "       [439,  76],\n",
       "       [622,   0],\n",
       "       [220,  76],\n",
       "       [424,  76],\n",
       "       [431,  76],\n",
       "       [150,  76],\n",
       "       [302,  76],\n",
       "       [562,  76],\n",
       "       [532,  35],\n",
       "       [447,  76],\n",
       "       [601,   0],\n",
       "       [284,  76],\n",
       "       [177,  76],\n",
       "       [ 32,  76],\n",
       "       [304,  76],\n",
       "       [256,  76],\n",
       "       [239,  76],\n",
       "       [219,  76],\n",
       "       [598,   0],\n",
       "       [ 56,  76],\n",
       "       [ 99,  76],\n",
       "       [183,  76],\n",
       "       [203,  76],\n",
       "       [158,  76],\n",
       "       [523,  35],\n",
       "       [466,  77],\n",
       "       [190,  76],\n",
       "       [192,  76],\n",
       "       [ 80,  76],\n",
       "       [602,   0],\n",
       "       [140,  76],\n",
       "       [263,  76],\n",
       "       [531,  35],\n",
       "       [146,  76],\n",
       "       [138,  76],\n",
       "       [ 29,   0],\n",
       "       [606,   0],\n",
       "       [271,  76],\n",
       "       [ 57,  76],\n",
       "       [254,  76],\n",
       "       [  3,  35],\n",
       "       [ 35,  76],\n",
       "       [221,  76],\n",
       "       [289,  76],\n",
       "       [592,   0],\n",
       "       [157,  76],\n",
       "       [ 28,  35],\n",
       "       [421,  76],\n",
       "       [119,  76],\n",
       "       [ 97,  76],\n",
       "       [477,  77],\n",
       "       [249,  76],\n",
       "       [ 94,  76],\n",
       "       [366,  76],\n",
       "       [ 95,  76],\n",
       "       [210,  76],\n",
       "       [618,   0],\n",
       "       [164,  76],\n",
       "       [132,  76],\n",
       "       [621,   0],\n",
       "       [269,  76],\n",
       "       [ 98,  76],\n",
       "       [339,  76],\n",
       "       [358,  76],\n",
       "       [472,  77],\n",
       "       [371,  76],\n",
       "       [334,  76],\n",
       "       [ 39,  76],\n",
       "       [610,   0],\n",
       "       [343,  76],\n",
       "       [131,  76],\n",
       "       [227,  76],\n",
       "       [ 60,  76],\n",
       "       [155,  76],\n",
       "       [419,  76],\n",
       "       [351,  76],\n",
       "       [444,  76],\n",
       "       [301,  76],\n",
       "       [ 17,  35],\n",
       "       [127,  76],\n",
       "       [620,   0],\n",
       "       [212,  76],\n",
       "       [349,  76],\n",
       "       [364,  76],\n",
       "       [121,  76],\n",
       "       [392,  76],\n",
       "       [  4,  35],\n",
       "       [446,  76],\n",
       "       [393,  76],\n",
       "       [ 15,  35],\n",
       "       [134,  76],\n",
       "       [ 46,  76],\n",
       "       [624,   0],\n",
       "       [ 42,  76],\n",
       "       [125,  76],\n",
       "       [596,   0],\n",
       "       [163,  76],\n",
       "       [611,   0],\n",
       "       [405,  76],\n",
       "       [108,  76],\n",
       "       [514,  35],\n",
       "       [296,  76],\n",
       "       [ 21,  35],\n",
       "       [420,  76],\n",
       "       [222,  76],\n",
       "       [123,  76],\n",
       "       [181,  76],\n",
       "       [200,  76],\n",
       "       [471,  77],\n",
       "       [243,  76],\n",
       "       [282,  76],\n",
       "       [469,  77],\n",
       "       [378,  76],\n",
       "       [195,  76],\n",
       "       [362,  76],\n",
       "       [385,  76],\n",
       "       [449,   0],\n",
       "       [475,  77],\n",
       "       [436,  76],\n",
       "       [432,  76],\n",
       "       [144,  76],\n",
       "       [ 90,  76],\n",
       "       [384,  76],\n",
       "       [118,  76],\n",
       "       [224,  76],\n",
       "       [438,  76],\n",
       "       [325,  76],\n",
       "       [ 22,  35],\n",
       "       [153,  76],\n",
       "       [276,  76],\n",
       "       [231,  76],\n",
       "       [324,  76],\n",
       "       [261,  76],\n",
       "       [245,  76],\n",
       "       [193,  76],\n",
       "       [ 78,  76],\n",
       "       [257,  76],\n",
       "       [ 13,  76],\n",
       "       [122,  76],\n",
       "       [623,   0],\n",
       "       [404,  76],\n",
       "       [154,  76],\n",
       "       [264,  76],\n",
       "       [ 89,  76],\n",
       "       [435,  76],\n",
       "       [356,  76],\n",
       "       [ 20,  35],\n",
       "       [161,  76],\n",
       "       [526,  35],\n",
       "       [512,  35],\n",
       "       [ 92,  76],\n",
       "       [390,  76],\n",
       "       [182,  76],\n",
       "       [148,  76],\n",
       "       [252,  76],\n",
       "       [492,  76],\n",
       "       [288,  76],\n",
       "       [136,  76],\n",
       "       [628,   0],\n",
       "       [ 26,  35],\n",
       "       [215,  76],\n",
       "       [167,  76],\n",
       "       [  2,  35],\n",
       "       [107,  76],\n",
       "       [111,  76],\n",
       "       [197,  76],\n",
       "       [310,  76],\n",
       "       [104,  76],\n",
       "       [196,  76],\n",
       "       [166,  76],\n",
       "       [ 52,  76],\n",
       "       [147,  76],\n",
       "       [363,  76],\n",
       "       [129,  76],\n",
       "       [428,  76],\n",
       "       [333,  76],\n",
       "       [375,  76],\n",
       "       [217,  76],\n",
       "       [ 85,  76],\n",
       "       [120,  76],\n",
       "       [232,  76],\n",
       "       [594,   0],\n",
       "       [112,  76],\n",
       "       [137,  76],\n",
       "       [149,  76],\n",
       "       [151,  76],\n",
       "       [426,  76],\n",
       "       [309,  76],\n",
       "       [244,  76],\n",
       "       [ 73,  76],\n",
       "       [  1,  35],\n",
       "       [ 88,  76],\n",
       "       [365,  76],\n",
       "       [159,  76],\n",
       "       [178,  76],\n",
       "       [359,  76],\n",
       "       [268,  76],\n",
       "       [372,  76],\n",
       "       [162,  76],\n",
       "       [408,  76],\n",
       "       [387,  76],\n",
       "       [ 91,  76],\n",
       "       [199,  76],\n",
       "       [ 25,   0],\n",
       "       [342,  76],\n",
       "       [442,  76],\n",
       "       [411,  76],\n",
       "       [473,  77],\n",
       "       [524,  35],\n",
       "       [478,  77],\n",
       "       [595,   0],\n",
       "       [305,  76],\n",
       "       [614,   0],\n",
       "       [533,  35],\n",
       "       [410,  76],\n",
       "       [433,  76],\n",
       "       [461,  35],\n",
       "       [297,  76],\n",
       "       [229,  76],\n",
       "       [522,  35],\n",
       "       [357,  76],\n",
       "       [253,  76],\n",
       "       [294,  76]])"
      ]
     },
     "execution_count": 41,
     "metadata": {},
     "output_type": "execute_result"
    }
   ],
   "source": [
    "shuffle_list"
   ]
  },
  {
   "cell_type": "code",
   "execution_count": 42,
   "metadata": {},
   "outputs": [],
   "source": [
    "# Split testing and training based on the number of gears\n",
    "split_perc = 0.8\n",
    "train_size = round(len(shuffle_list)*split_perc)\n",
    "train_list = shuffle_list[:train_size]\n",
    "test_list = shuffle_list[train_size:]"
   ]
  },
  {
   "cell_type": "code",
   "execution_count": 43,
   "metadata": {},
   "outputs": [],
   "source": [
    "# Make gear_table to have all gear id indexes from images table\n",
    "gear_table = np.array(images[:,1], dtype=int)"
   ]
  },
  {
   "cell_type": "code",
   "execution_count": 44,
   "metadata": {},
   "outputs": [],
   "source": [
    "# Define function to find the 22 images of each gear, and assign a label to all 22 images\n",
    "def find_ind_label(gear_list):\n",
    "    img_ind = np.array([], dtype = 'uint8')\n",
    "    gear_label = np.array([], dtype = 'uint8')\n",
    "    for i in range(len(gear_list)):\n",
    "        # Find index of images\n",
    "        gear_id_22 = np.where(gear_table==gear_list[i,0])\n",
    "        # Create a label array with the defect number\n",
    "        label_temp = np.ones(np.size(gear_id_22))*gear_list[i,1]\n",
    "        # Append the label array to the global label variable\n",
    "        gear_label = np.append(gear_label, label_temp)\n",
    "        # Append the index of the image\n",
    "        img_ind = np.append(img_ind, gear_id_22) \n",
    "    img_ind = np.reshape(img_ind, np.size(img_ind))\n",
    "    # Find the folder location of each image\n",
    "    img_dir = images[img_ind, 2]\n",
    "    # Return gear labels and folder location\n",
    "    return gear_label, img_dir"
   ]
  },
  {
   "cell_type": "code",
   "execution_count": 45,
   "metadata": {},
   "outputs": [],
   "source": [
    "# Call find_ind_label to obtain image directory and label for train and test list of gears\n",
    "y_train_label, y_train_dir = find_ind_label(train_list)\n",
    "y_test_label, y_test_dir = find_ind_label(test_list)"
   ]
  },
  {
   "cell_type": "code",
   "execution_count": 49,
   "metadata": {},
   "outputs": [
    {
     "data": {
      "text/plain": [
       "(array([ 0., 35., 76., 77.]), array([ 886,  624, 6462,  378], dtype=int64))"
      ]
     },
     "execution_count": 49,
     "metadata": {},
     "output_type": "execute_result"
    }
   ],
   "source": [
    "np.unique(y_train_label, return_counts=True)"
   ]
  },
  {
   "cell_type": "code",
   "execution_count": 50,
   "metadata": {},
   "outputs": [
    {
     "data": {
      "text/plain": [
       "(array([ 0., 35., 76., 77.]), array([ 140,  220, 1700,   44], dtype=int64))"
      ]
     },
     "execution_count": 50,
     "metadata": {},
     "output_type": "execute_result"
    }
   ],
   "source": [
    "np.unique(y_test_label, return_counts=True)"
   ]
  },
  {
   "cell_type": "code",
   "execution_count": 46,
   "metadata": {
    "scrolled": true
   },
   "outputs": [
    {
     "data": {
      "text/plain": [
       "array(['./data/images/2020-02-11/324_102436_1_0.png',\n",
       "       './data/images/2020-02-11/324_102436_1_1.png',\n",
       "       './data/images/2020-02-11/324_102436_1_2.png', ...,\n",
       "       './data/images/2020-02-06/294_111130_1_19.png',\n",
       "       './data/images/2020-02-06/294_111130_1_20.png',\n",
       "       './data/images/2020-02-06/294_111130_1_21.png'], dtype='<U44')"
      ]
     },
     "execution_count": 46,
     "metadata": {},
     "output_type": "execute_result"
    }
   ],
   "source": [
    "y_test_dir"
   ]
  },
  {
   "cell_type": "code",
   "execution_count": 52,
   "metadata": {},
   "outputs": [],
   "source": [
    "# Create a dictionary that takes the defect and converts to a range\n",
    "data_dict = {gear_defects[i]:i for i in range(len(gear_defects))}\n",
    "# Create a new set of labels that is ordered from (0 to # of defects) (this will be used for tensorflow)\n",
    "y_train = [data_dict[int( y_train_label[i])] for i in range(len(y_train_label))]\n",
    "y_test = [data_dict[int(y_test_label[i])] for i in range(len(y_test_label))]\n",
    "y_train, y_test =  np.array(y_train), np.array(y_test)"
   ]
  },
  {
   "cell_type": "code",
   "execution_count": 54,
   "metadata": {},
   "outputs": [
    {
     "data": {
      "text/plain": [
       "(array([0, 1, 2, 3]), array([ 886,  624, 6462,  378], dtype=int64))"
      ]
     },
     "execution_count": 54,
     "metadata": {},
     "output_type": "execute_result"
    }
   ],
   "source": [
    "np.unique(y_train, return_counts=True)"
   ]
  },
  {
   "cell_type": "code",
   "execution_count": 55,
   "metadata": {},
   "outputs": [],
   "source": [
    "# Re-scale pixel size of image\n",
    "size = [300, 400]"
   ]
  },
  {
   "cell_type": "code",
   "execution_count": 56,
   "metadata": {
    "scrolled": true
   },
   "outputs": [
    {
     "name": "stdout",
     "output_type": "stream",
     "text": [
      "735.2338042259216\n"
     ]
    }
   ],
   "source": [
    "time_now = time.time()\n",
    "\n",
    "# Import image function\n",
    "def import_images(size, location):\n",
    "    data = np.zeros((len(location), size[0], size[1]), dtype='uint8')\n",
    "    for i in range(len(data)):\n",
    "        # Open image using PIL library\n",
    "        img = Image.open(os.path.realpath('../Project/'+str(location[i])))\n",
    "        # Re-size image to given size\n",
    "        img = img.resize((size[1], size[0]), Image.ANTIALIAS)\n",
    "        # Conver image to array\n",
    "        data[i] = np.array(img, dtype='uint8')\n",
    "    return data\n",
    "\n",
    "# Call function for both training and testing datasets (re-shape to a 4-D tensor for tensorflow)\n",
    "X_train = import_images(size, y_train_dir).reshape(-1, size[0], size[1], 1)\n",
    "X_test = import_images(size, y_test_dir).reshape(-1, size[0], size[1], 1)\n",
    "\n",
    "time_after = time.time()\n",
    "print(time_after - time_now)"
   ]
  },
  {
   "cell_type": "code",
   "execution_count": 57,
   "metadata": {},
   "outputs": [
    {
     "data": {
      "text/plain": [
       "(8350, 300, 400, 1)"
      ]
     },
     "execution_count": 57,
     "metadata": {},
     "output_type": "execute_result"
    }
   ],
   "source": [
    "np.shape(X_train)"
   ]
  },
  {
   "cell_type": "code",
   "execution_count": 58,
   "metadata": {},
   "outputs": [
    {
     "data": {
      "text/plain": [
       "(2104, 300, 400, 1)"
      ]
     },
     "execution_count": 58,
     "metadata": {},
     "output_type": "execute_result"
    }
   ],
   "source": [
    "np.shape(X_test)"
   ]
  },
  {
   "cell_type": "code",
   "execution_count": 17,
   "metadata": {},
   "outputs": [],
   "source": [
    "# Save images as npy files\n",
    "np.save('gears_train_300x400_0,76,77,35.npy', X_train)\n",
    "np.save('gears_test_300x400_0,76,77,35.npy', X_test)\n",
    "np.save('gears_ytrain_300x400_0,76,77,35.npy', y_train)\n",
    "np.save('gears_ytest_300x400_0,76,77,35.npy', y_test)"
   ]
  },
  {
   "cell_type": "code",
   "execution_count": 3,
   "metadata": {},
   "outputs": [
    {
     "name": "stdout",
     "output_type": "stream",
     "text": [
      "0.7027792930603027\n"
     ]
    }
   ],
   "source": [
    "# Loading code snippet\n",
    "time_now = time.time()\n",
    "X_train = np.load('gears_train_300x400_0,76,77,35.npy')\n",
    "X_test = np.load('gears_test_300x400_0,76,77,35.npy')\n",
    "y_train = np.load('gears_ytrain_300x400_0,76,77,35.npy')\n",
    "y_test = np.load('gears_ytest_300x400_0,76,77,35.npy')\n",
    "time_after = time.time()\n",
    "print(time_after - time_now)"
   ]
  }
 ],
 "metadata": {
  "kernelspec": {
   "display_name": "Python 3",
   "language": "python",
   "name": "python3"
  },
  "language_info": {
   "codemirror_mode": {
    "name": "ipython",
    "version": 3
   },
   "file_extension": ".py",
   "mimetype": "text/x-python",
   "name": "python",
   "nbconvert_exporter": "python",
   "pygments_lexer": "ipython3",
   "version": "3.8.3"
  }
 },
 "nbformat": 4,
 "nbformat_minor": 4
}
